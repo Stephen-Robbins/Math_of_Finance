{
 "cells": [
  {
   "cell_type": "code",
   "execution_count": null,
   "metadata": {},
   "outputs": [],
   "source": [
    "# Run this cell to download the course materials and functions.\n",
    "import os\n",
    "import sys\n",
    "\n",
    "# Clone the repository\n",
    "!git clone https://github.com/Stephen-Robbins/Math_of_Finance.git\n",
    "\n",
    "# Change directory to the repository's root\n",
    "%cd Math_of_Finance\n",
    "\n",
    "# --- Important: Add the 'scripts' directory to Python's search path ---\n",
    "# Get the absolute path to the 'scripts' folder. This is crucial for portability.\n",
    "scripts_path = os.path.join(os.getcwd(), \"scripts\")\n",
    "\n",
    "# Add the scripts directory to Python's path\n",
    "if scripts_path not in sys.path:  # Avoid adding it multiple times\n",
    "    sys.path.insert(0, scripts_path)\n",
    "    \n",
    "from Math_Functions import discrete_expected_value_and_variance, normal_prob, clt, continuous_expected_value_and_variance\n",
    "from finance import put_call_parity_arb\n",
    "from Sports_Betting import calculate_optimal_bets, probability_to_odds, odds_to_probability "
   ]
  },
  {
   "cell_type": "markdown",
   "metadata": {},
   "source": [
    "### Toy Problems showing how to use each function "
   ]
  },
  {
   "cell_type": "markdown",
   "metadata": {},
   "source": [
    "#### Calculate Optimal Bets\n",
    "\n",
    "Question: How should you distribute $1000 across betting 2:1 that Team A wins and 4:5 that Team B wins to maximize guaranteed profit?"
   ]
  },
  {
   "cell_type": "code",
   "execution_count": 2,
   "metadata": {},
   "outputs": [
    {
     "name": "stdout",
     "output_type": "stream",
     "text": [
      "For odds [2.0, 0.8] with $1000 to invest:\n",
      "Optimal bet allocation: $[375. 625.]\n",
      "Guaranteed profit: $125.00\n"
     ]
    }
   ],
   "source": [
    "# Define our parameters\n",
    "odds = [2.0, 4/5]\n",
    "total_money = 1000\n",
    "\n",
    "# Calculate the optimal bets\n",
    "optimal_bets, profit =calculate_optimal_bets(odds, total_money)\n",
    "\n",
    "# Display the results\n",
    "print(f\"For odds {odds} with ${total_money} to invest:\")\n",
    "print(f\"Optimal bet allocation: ${optimal_bets}\")\n",
    "print(f\"Guaranteed profit: ${profit:.2f}\")"
   ]
  },
  {
   "cell_type": "markdown",
   "metadata": {},
   "source": [
    "####  Convert Probability to Odds\n",
    "\n",
    "Question: If an event has a 25% chance of happening, what are the corresponding odds?\n"
   ]
  },
  {
   "cell_type": "code",
   "execution_count": 3,
   "metadata": {},
   "outputs": [
    {
     "name": "stdout",
     "output_type": "stream",
     "text": [
      "An event with 25.0% probability has odds of 3.00\n"
     ]
    }
   ],
   "source": [
    "probability = 0.25\n",
    "odds = probability_to_odds(probability)\n",
    "\n",
    "print(f\"An event with {probability*100}% probability has odds of {odds:.2f}\")"
   ]
  },
  {
   "cell_type": "markdown",
   "metadata": {},
   "source": [
    "#### Convert Odds to Probability\n",
    "\n",
    "Question: If a bet has odds of 2.0, what is the implied probability of winning?"
   ]
  },
  {
   "cell_type": "code",
   "execution_count": 4,
   "metadata": {},
   "outputs": [
    {
     "name": "stdout",
     "output_type": "stream",
     "text": [
      "A bet with odds of 2.0 has an implied probability of 33.33%\n"
     ]
    }
   ],
   "source": [
    "odds = 2.0\n",
    "probability = odds_to_probability(odds)\n",
    "\n",
    "print(f\"A bet with odds of {odds} has an implied probability of {probability:.2%}\")"
   ]
  },
  {
   "cell_type": "markdown",
   "metadata": {},
   "source": [
    "#### Discrete Expected Value and Variance\n",
    "\n",
    "Question: What is the expected value and variance when rolling a fair six-sided die?"
   ]
  },
  {
   "cell_type": "code",
   "execution_count": 5,
   "metadata": {},
   "outputs": [
    {
     "name": "stdout",
     "output_type": "stream",
     "text": [
      "Expected value of a fair die roll: 3.5\n",
      "Variance of a fair die roll: 2.916666666666666\n"
     ]
    }
   ],
   "source": [
    "# Define the probability distribution for a fair die\n",
    "probabilities = [1/6, 1/6, 1/6, 1/6, 1/6, 1/6]  # Equal probability for each outcome\n",
    "values = [1, 2, 3, 4, 5, 6]  # Possible outcomes\n",
    "\n",
    "# Calculate expected value and variance\n",
    "expected_value, variance = discrete_expected_value_and_variance(probabilities, values)\n",
    "\n",
    "print(f\"Expected value of a fair die roll: {expected_value}\")\n",
    "print(f\"Variance of a fair die roll: {variance}\")"
   ]
  },
  {
   "cell_type": "markdown",
   "metadata": {},
   "source": [
    "#### Continuous Expected Value and Variance\n",
    "\n",
    "Question: What is the expected value and variance of a uniform distribution over the interval [0, 1]?"
   ]
  },
  {
   "cell_type": "code",
   "execution_count": 6,
   "metadata": {},
   "outputs": [
    {
     "name": "stdout",
     "output_type": "stream",
     "text": [
      "Expected value of uniform distribution on [0,1]: 0.5\n",
      "Variance of uniform distribution on [0,1]: 0.08333333333333331\n"
     ]
    }
   ],
   "source": [
    "def uniform_pdf(x):\n",
    "    if 0 <= x <= 1:\n",
    "        return 1.0  # Height of PDF is 1 for a uniform distribution on [0,1]\n",
    "    else:\n",
    "        return 0.0\n",
    "\n",
    "# Calculate expected value and variance\n",
    "a = 0  # Lower bound\n",
    "b = 1  # Upper bound\n",
    "expected_value, variance = continuous_expected_value_and_variance(uniform_pdf, a, b)\n",
    "\n",
    "print(f\"Expected value of uniform distribution on [0,1]: {expected_value}\")\n",
    "print(f\"Variance of uniform distribution on [0,1]: {variance}\")\n",
    "\n"
   ]
  },
  {
   "cell_type": "markdown",
   "metadata": {},
   "source": [
    "#### Normal Probability\n",
    "\n",
    "Question: If exam scores are normally distributed with a mean of 75 and a variance of 64, what is the probability that a student scores 85 or below?"
   ]
  },
  {
   "cell_type": "code",
   "execution_count": 7,
   "metadata": {},
   "outputs": [
    {
     "name": "stdout",
     "output_type": "stream",
     "text": [
      "Probability of scoring 85 or below: 0.8944\n",
      "That's approximately 89.4%\n"
     ]
    }
   ],
   "source": [
    "b = 85      # Upper limit\n",
    "mu = 75     # Mean\n",
    "sigma_sq = 64  # Variance\n",
    "\n",
    "probability = normal_prob(b, mu, sigma_sq)\n",
    "\n",
    "print(f\"Probability of scoring 85 or below: {probability:.4f}\")\n",
    "print(f\"That's approximately {probability*100:.1f}%\")"
   ]
  },
  {
   "cell_type": "markdown",
   "metadata": {},
   "source": [
    "####  Central Limit Theorem\n",
    "\n",
    "Question: If a random variable has mean 10 and variance 25, what are the mean and variance of the sum and average of 100 independent samples?"
   ]
  },
  {
   "cell_type": "code",
   "execution_count": 8,
   "metadata": {},
   "outputs": [
    {
     "name": "stdout",
     "output_type": "stream",
     "text": [
      "For 100 i.i.d. random variables with mean 10 and variance 25:\n",
      "Sum: Mean = 1000, Variance = 2500\n",
      "Average: Mean = 10, Variance = 0.25\n"
     ]
    }
   ],
   "source": [
    "# Parameters\n",
    "mu = 10        # Mean of each random variable\n",
    "sigma_sq = 25  # Variance of each random variable\n",
    "n = 100        # Number of samples\n",
    "\n",
    "# Calculate using CLT function\n",
    "mean_sum, var_sum, mean_avg, var_avg = clt(mu, sigma_sq, n)\n",
    "\n",
    "print(f\"For {n} i.i.d. random variables with mean {mu} and variance {sigma_sq}:\")\n",
    "print(f\"Sum: Mean = {mean_sum}, Variance = {var_sum}\")\n",
    "print(f\"Average: Mean = {mean_avg}, Variance = {var_avg}\")"
   ]
  },
  {
   "cell_type": "markdown",
   "metadata": {},
   "source": [
    "#### Put-Call Parity Arbitrage\n",
    "\n",
    "Question: Suppose you observe a call option priced at $5, a put option with the same strike and expiration priced at $2, the stock price is $50, the strike price is $45, the risk-free rate is 5%, and there's 3 months until expiration. Is there an arbitrage opportunity?\n",
    "\n"
   ]
  },
  {
   "cell_type": "code",
   "execution_count": 9,
   "metadata": {},
   "outputs": [
    {
     "name": "stdout",
     "output_type": "stream",
     "text": [
      "\n",
      "Arbitrage analysis:\n",
      "RHS > LHS by $2.56: Buy the Call, Sell the Put, Short the Stock, Invest the Present Value of Strike.\n"
     ]
    }
   ],
   "source": [
    "# Input parameters\n",
    "C = 5       # Call price\n",
    "P = 2       # Put price\n",
    "E = 45      # Strike price\n",
    "S = 50      # Current stock price\n",
    "r = 0.05    # Risk-free rate (5%)\n",
    "T = 3/12    # Time to maturity (3 months = 0.25 years)\n",
    "\n",
    "# Check for arbitrage opportunities\n",
    "arbitrage_amount, strategy = put_call_parity_arb(C, P, E, S, r, T)\n",
    "\n",
    "# Display the results\n",
    "print(\"\\nArbitrage analysis:\")\n",
    "print(strategy)"
   ]
  }
 ],
 "metadata": {
  "kernelspec": {
   "display_name": "Python 3",
   "language": "python",
   "name": "python3"
  },
  "language_info": {
   "codemirror_mode": {
    "name": "ipython",
    "version": 3
   },
   "file_extension": ".py",
   "mimetype": "text/x-python",
   "name": "python",
   "nbconvert_exporter": "python",
   "pygments_lexer": "ipython3",
   "version": "3.11.4"
  }
 },
 "nbformat": 4,
 "nbformat_minor": 2
}
