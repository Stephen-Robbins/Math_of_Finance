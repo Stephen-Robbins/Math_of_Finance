{
 "cells": [
  {
   "cell_type": "code",
   "execution_count": 1,
   "metadata": {},
   "outputs": [],
   "source": [
    "# Run this cell to download the course materials and functions.\n",
    "import os\n",
    "import sys\n",
    "\n",
    "# Clone the repository\n",
    "#!git clone https://github.com/Stephen-Robbins/Math_of_Finance.git\n",
    "\n",
    "# Change directory to the repository's root\n",
    "#%cd Math_of_Finance\n",
    "\n",
    "# --- Important: Add the 'scripts' directory to Python's search path ---\n",
    "# Get the absolute path to the 'scripts' folder. This is crucial for portability.\n",
    "scripts_path = os.path.join(os.getcwd(), \"scripts\")\n",
    "\n",
    "# Add the scripts directory to Python's path\n",
    "if scripts_path not in sys.path:  # Avoid adding it multiple times\n",
    "    sys.path.insert(0, scripts_path)\n",
    "    \n",
    "from Math_Functions import *\n",
    "from finance import *\n",
    "from Sports_Betting import *"
   ]
  },
  {
   "cell_type": "markdown",
   "metadata": {},
   "source": [
    "### Toy Problems showing how to use each function "
   ]
  },
  {
   "cell_type": "markdown",
   "metadata": {},
   "source": [
    "#### Calculate Optimal Bets\n",
    "\n",
    "Question: How should you distribute $1000 across betting 2:1 that Team A wins and 4:5 that Team B wins to maximize guaranteed profit?"
   ]
  },
  {
   "cell_type": "code",
   "execution_count": 2,
   "metadata": {},
   "outputs": [
    {
     "name": "stdout",
     "output_type": "stream",
     "text": [
      "For odds [2.0, 0.8] with $1000 to invest:\n",
      "Optimal bet allocation: $[375. 625.]\n",
      "Guaranteed profit: $125.00\n"
     ]
    }
   ],
   "source": [
    "# Define our parameters\n",
    "odds = [2.0, 4/5]\n",
    "total_money = 1000\n",
    "\n",
    "# Calculate the optimal bets\n",
    "optimal_bets, profit =calculate_optimal_bets(odds, total_money)\n",
    "\n",
    "# Display the results\n",
    "print(f\"For odds {odds} with ${total_money} to invest:\")\n",
    "print(f\"Optimal bet allocation: ${optimal_bets}\")\n",
    "print(f\"Guaranteed profit: ${profit:.2f}\")"
   ]
  },
  {
   "cell_type": "markdown",
   "metadata": {},
   "source": [
    "####  Convert Probability to Odds\n",
    "\n",
    "Question: If an event has a 25% chance of happening, what are the corresponding odds?\n"
   ]
  },
  {
   "cell_type": "code",
   "execution_count": 3,
   "metadata": {},
   "outputs": [
    {
     "name": "stdout",
     "output_type": "stream",
     "text": [
      "An event with 25.0% probability has odds of 3.00\n"
     ]
    }
   ],
   "source": [
    "probability = 0.25\n",
    "odds = probability_to_odds(probability)\n",
    "\n",
    "print(f\"An event with {probability*100}% probability has odds of {odds:.2f}\")"
   ]
  },
  {
   "cell_type": "markdown",
   "metadata": {},
   "source": [
    "#### Convert Odds to Probability\n",
    "\n",
    "Question: If a bet has odds of 2.0, what is the implied probability of winning?"
   ]
  },
  {
   "cell_type": "code",
   "execution_count": 4,
   "metadata": {},
   "outputs": [
    {
     "name": "stdout",
     "output_type": "stream",
     "text": [
      "A bet with odds of 2.0 has an implied probability of 33.33%\n"
     ]
    }
   ],
   "source": [
    "odds = 2.0\n",
    "probability = odds_to_probability(odds)\n",
    "\n",
    "print(f\"A bet with odds of {odds} has an implied probability of {probability:.2%}\")"
   ]
  },
  {
   "cell_type": "markdown",
   "metadata": {},
   "source": [
    "#### Discrete Expected Value and Variance\n",
    "\n",
    "Question: What is the expected value and variance when rolling a fair six-sided die?"
   ]
  },
  {
   "cell_type": "code",
   "execution_count": 5,
   "metadata": {},
   "outputs": [
    {
     "name": "stdout",
     "output_type": "stream",
     "text": [
      "Expected value of a fair die roll: 3.5\n",
      "Variance of a fair die roll: 2.916666666666666\n"
     ]
    }
   ],
   "source": [
    "# Define the probability distribution for a fair die\n",
    "probabilities = [1/6, 1/6, 1/6, 1/6, 1/6, 1/6]  # Equal probability for each outcome\n",
    "values = [1, 2, 3, 4, 5, 6]  # Possible outcomes\n",
    "\n",
    "# Calculate expected value and variance\n",
    "expected_value, variance = discrete_expected_value_and_variance(probabilities, values)\n",
    "\n",
    "print(f\"Expected value of a fair die roll: {expected_value}\")\n",
    "print(f\"Variance of a fair die roll: {variance}\")"
   ]
  },
  {
   "cell_type": "markdown",
   "metadata": {},
   "source": [
    "#### Continuous Expected Value and Variance\n",
    "\n",
    "Question: What is the expected value and variance of a uniform distribution over the interval [0, 1]?"
   ]
  },
  {
   "cell_type": "code",
   "execution_count": 6,
   "metadata": {},
   "outputs": [
    {
     "name": "stdout",
     "output_type": "stream",
     "text": [
      "Expected value of uniform distribution on [0,1]: 0.5\n",
      "Variance of uniform distribution on [0,1]: 0.08333333333333331\n"
     ]
    }
   ],
   "source": [
    "def uniform_pdf(x):\n",
    "    if 0 <= x <= 1:\n",
    "        return 1.0  # Height of PDF is 1 for a uniform distribution on [0,1]\n",
    "    else:\n",
    "        return 0.0\n",
    "\n",
    "# Calculate expected value and variance\n",
    "a = 0  # Lower bound\n",
    "b = 1  # Upper bound\n",
    "expected_value, variance = continuous_expected_value_and_variance(uniform_pdf, a, b)\n",
    "\n",
    "print(f\"Expected value of uniform distribution on [0,1]: {expected_value}\")\n",
    "print(f\"Variance of uniform distribution on [0,1]: {variance}\")\n",
    "\n"
   ]
  },
  {
   "cell_type": "markdown",
   "metadata": {},
   "source": [
    "#### Normal Probability\n",
    "\n",
    "Question: If exam scores are normally distributed with a mean of 75 and a variance of 64, what is the probability that a student scores 85 or below?"
   ]
  },
  {
   "cell_type": "code",
   "execution_count": 7,
   "metadata": {},
   "outputs": [
    {
     "name": "stdout",
     "output_type": "stream",
     "text": [
      "Probability of scoring 85 or below: 0.8944\n",
      "That's approximately 89.4%\n"
     ]
    }
   ],
   "source": [
    "b = 85      # Upper limit\n",
    "mu = 75     # Mean\n",
    "sigma_sq = 64  # Variance\n",
    "\n",
    "probability = normal_prob(b, mu, sigma_sq)\n",
    "\n",
    "print(f\"Probability of scoring 85 or below: {probability:.4f}\")\n",
    "print(f\"That's approximately {probability*100:.1f}%\")"
   ]
  },
  {
   "cell_type": "markdown",
   "metadata": {},
   "source": [
    "####  Central Limit Theorem\n",
    "\n",
    "Question: If a random variable has mean 10 and variance 25, what are the mean and variance of the sum and average of 100 independent samples?"
   ]
  },
  {
   "cell_type": "code",
   "execution_count": 8,
   "metadata": {},
   "outputs": [
    {
     "name": "stdout",
     "output_type": "stream",
     "text": [
      "For 100 i.i.d. random variables with mean 10 and variance 25:\n",
      "Sum: Mean = 1000, Variance = 2500\n",
      "Average: Mean = 10, Variance = 0.25\n"
     ]
    }
   ],
   "source": [
    "# Parameters\n",
    "mu = 10        # Mean of each random variable\n",
    "sigma_sq = 25  # Variance of each random variable\n",
    "n = 100        # Number of samples\n",
    "\n",
    "# Calculate using CLT function\n",
    "mean_sum, var_sum, mean_avg, var_avg = clt(mu, sigma_sq, n)\n",
    "\n",
    "print(f\"For {n} i.i.d. random variables with mean {mu} and variance {sigma_sq}:\")\n",
    "print(f\"Sum: Mean = {mean_sum}, Variance = {var_sum}\")\n",
    "print(f\"Average: Mean = {mean_avg}, Variance = {var_avg}\")"
   ]
  },
  {
   "cell_type": "markdown",
   "metadata": {},
   "source": [
    "#### Put-Call Parity Arbitrage\n",
    "\n",
    "Question: Suppose you observe a call option priced at $5, a put option with the same strike and expiration priced at $2, the stock price is $50, the strike price is $45, the risk-free rate is 5%, and there's 3 months until expiration. Is there an arbitrage opportunity?\n",
    "\n"
   ]
  },
  {
   "cell_type": "code",
   "execution_count": 9,
   "metadata": {},
   "outputs": [
    {
     "name": "stdout",
     "output_type": "stream",
     "text": [
      "\n",
      "Arbitrage analysis:\n",
      "RHS > LHS by $2.56: Buy the Call, Sell the Put, Short the Stock, Invest the Present Value of Strike.\n"
     ]
    }
   ],
   "source": [
    "# Input parameters\n",
    "C = 5       # Call price\n",
    "P = 2       # Put price\n",
    "E = 45      # Strike price\n",
    "S = 50      # Current stock price\n",
    "r = 0.05    # Risk-free rate (5%)\n",
    "T = 3/12    # Time to maturity (3 months = 0.25 years)\n",
    "\n",
    "# Check for arbitrage opportunities\n",
    "arbitrage_amount, strategy = put_call_parity_arb(C, P, E, S, r, T)\n",
    "\n",
    "# Display the results\n",
    "print(\"\\nArbitrage analysis:\")\n",
    "print(strategy)"
   ]
  },
  {
   "cell_type": "markdown",
   "metadata": {},
   "source": [
    "#### Annualized Volatility"
   ]
  },
  {
   "cell_type": "markdown",
   "metadata": {},
   "source": [
    "\n",
    "Question: Calculate the annualized volatility of a stock with the following 10 days of prices."
   ]
  },
  {
   "cell_type": "code",
   "execution_count": 10,
   "metadata": {},
   "outputs": [
    {
     "name": "stdout",
     "output_type": "stream",
     "text": [
      "Daily prices: [105.0, 106.2, 107.5, 106.8, 108.1, 109.2, 107.5, 106.9, 108.3, 110.0]\n",
      "Annualized volatility: 0.1790 (17.90%)\n",
      "Daily volatility: 0.0113 (1.13%)\n",
      "Daily mean log return: 0.0052 (0.52%)\n"
     ]
    }
   ],
   "source": [
    "# Sample stock prices for 10 consecutive trading days\n",
    "prices = [105.0, 106.2, 107.5, 106.8, 108.1, 109.2, 107.5, 106.9, 108.3, 110.0]\n",
    "\n",
    "# Calculate annualized volatility\n",
    "ann_vol, daily_vol, daily_mean = annualized_volatility(prices)\n",
    "\n",
    "print(f\"Daily prices: {prices}\")\n",
    "print(f\"Annualized volatility: {ann_vol:.4f} ({ann_vol*100:.2f}%)\")\n",
    "print(f\"Daily volatility: {daily_vol:.4f} ({daily_vol*100:.2f}%)\")\n",
    "print(f\"Daily mean log return: {daily_mean:.4f} ({daily_mean*100:.2f}%)\")"
   ]
  },
  {
   "cell_type": "markdown",
   "metadata": {},
   "source": [
    "#### Option Class"
   ]
  },
  {
   "cell_type": "markdown",
   "metadata": {},
   "source": [
    "Question 1: Calculate the price of a European call option on a stock currently trading at $100, with a strike price of $105, 3 months to expiration, a risk-free rate of 5%, and a volatility of 25%."
   ]
  },
  {
   "cell_type": "code",
   "execution_count": 11,
   "metadata": {},
   "outputs": [
    {
     "name": "stdout",
     "output_type": "stream",
     "text": [
      "Call option price: $3.44\n"
     ]
    }
   ],
   "source": [
    "# Initialize a call option\n",
    "S = 100       # Current stock price\n",
    "E = 105       # Strike price\n",
    "T = 0.25      # Time to expiration (3 months)\n",
    "r = 0.05      # Risk-free rate\n",
    "sigma = 0.25  # Volatility\n",
    "\n",
    "call_option = Option(S, E, T, r, sigma=sigma, option_type='call')\n",
    "\n",
    "# Display the option price\n",
    "print(f\"Call option price: ${call_option.price():.2f}\")"
   ]
  },
  {
   "cell_type": "markdown",
   "metadata": {},
   "source": [
    " Question 2: Using the same parameters as above, calculate the price of a European put option."
   ]
  },
  {
   "cell_type": "code",
   "execution_count": 12,
   "metadata": {},
   "outputs": [
    {
     "name": "stdout",
     "output_type": "stream",
     "text": [
      "Put option price: $7.14\n"
     ]
    }
   ],
   "source": [
    "# Initialize a put option with the same parameters\n",
    "put_option = Option(S, E, T, r, sigma=sigma, option_type='put')\n",
    "\n",
    "# Display the option price\n",
    "print(f\"Put option price: ${put_option.price():.2f}\")\n"
   ]
  },
  {
   "cell_type": "markdown",
   "metadata": {},
   "source": [
    "Question 3: If a 3-month call option with a strike price of $105 on a stock trading at $100 has a market price of $4.50, what is its implied volatility?"
   ]
  },
  {
   "cell_type": "code",
   "execution_count": 13,
   "metadata": {},
   "outputs": [
    {
     "name": "stdout",
     "output_type": "stream",
     "text": [
      "Implied volatility: 0.3042 or 30.42%\n"
     ]
    }
   ],
   "source": [
    "# Initialize an option with market price but without sigma\n",
    "S = 100      # Current stock price\n",
    "E = 105      # Strike price\n",
    "T = 0.25     # Time to expiration (3 months)\n",
    "r = 0.05     # Risk-free rate\n",
    "premium = 4.50  # Market price of the option\n",
    "\n",
    "option_with_premium = Option(S, E, T, r, premium=premium, option_type='call')\n",
    "\n",
    "# Get the implied volatility\n",
    "implied_vol = option_with_premium.sigma\n",
    "\n",
    "print(f\"Implied volatility: {implied_vol:.4f} or {implied_vol*100:.2f}%\")"
   ]
  },
  {
   "cell_type": "markdown",
   "metadata": {},
   "source": [
    "Question 4: Calculate and interpret the Greeks (Delta, Gamma, Theta, Vega, Rho) for the previously defined call option."
   ]
  },
  {
   "cell_type": "code",
   "execution_count": 14,
   "metadata": {},
   "outputs": [
    {
     "name": "stdout",
     "output_type": "stream",
     "text": [
      "    Metric      Value\n",
      "     Price   3.439894\n",
      "     Delta   0.409893\n",
      "     Gamma   0.031098\n",
      "     Theta -11.595528\n",
      "      Vega  19.436120\n",
      "       Rho   9.387341\n",
      "Volatility   0.250000\n"
     ]
    }
   ],
   "source": [
    "# Use the call option from Question 1\n",
    "greeks_summary = call_option.summary()\n",
    "print(greeks_summary)\n",
    "\n"
   ]
  },
  {
   "cell_type": "markdown",
   "metadata": {},
   "source": [
    "Question 5: How does a 2% continuous dividend yield affect the price of the call option compared to no dividend?"
   ]
  },
  {
   "cell_type": "code",
   "execution_count": 15,
   "metadata": {},
   "outputs": [
    {
     "name": "stdout",
     "output_type": "stream",
     "text": [
      "Call option price without dividend: $3.44\n",
      "Call option price with 2% dividend: $3.24\n",
      "Price difference: $0.20\n",
      "Percentage difference: 5.83%\n"
     ]
    }
   ],
   "source": [
    "# Call option without dividend\n",
    "call_no_div = Option(S, E, T, r, sigma=sigma, option_type='call')\n",
    "\n",
    "# Call option with 2% continuous dividend yield\n",
    "call_with_div = Option(S, E, T, r, sigma=sigma, option_type='call', q=0.02)\n",
    "\n",
    "# Compare prices\n",
    "price_no_div = call_no_div.price()\n",
    "price_with_div = call_with_div.price()\n",
    "\n",
    "print(f\"Call option price without dividend: ${price_no_div:.2f}\")\n",
    "print(f\"Call option price with 2% dividend: ${price_with_div:.2f}\")\n",
    "print(f\"Price difference: ${price_no_div - price_with_div:.2f}\")\n",
    "print(f\"Percentage difference: {((price_no_div - price_with_div) / price_no_div) * 100:.2f}%\")"
   ]
  },
  {
   "cell_type": "markdown",
   "metadata": {},
   "source": [
    "Question 6: Calculate the combined risk profile of a bull call spread portfolio where you buy a call with strike $100 and sell a call with strike $110."
   ]
  },
  {
   "cell_type": "code",
   "execution_count": 16,
   "metadata": {},
   "outputs": [
    {
     "name": "stdout",
     "output_type": "stream",
     "text": [
      "Bull Call Spread (Long $100 Call, Short $110 Call):\n",
      "Initial cost: $3.62\n",
      "Portfolio Delta: 0.2903\n",
      "Portfolio Gamma: 0.0048\n",
      "Portfolio Theta: -2.7826\n",
      "Portfolio Vega: 3.0241\n"
     ]
    }
   ],
   "source": [
    "# Stock price, time to expiration, etc.\n",
    "S = 100\n",
    "T = 0.25\n",
    "r = 0.05\n",
    "sigma = 0.25\n",
    "\n",
    "# Buy a call with strike $100\n",
    "call_100 = Option(S, 100, T, r, sigma=sigma, option_type='call')\n",
    "\n",
    "# Sell a call with strike $110\n",
    "call_110 = Option(S, 110, T, r, sigma=sigma, option_type='call')\n",
    "\n",
    "# Calculate portfolio metrics\n",
    "portfolio_cost = call_100.price() - call_110.price()\n",
    "portfolio_delta = call_100.delta() - call_110.delta()\n",
    "portfolio_gamma = call_100.gamma() - call_110.gamma()\n",
    "portfolio_theta = call_100.theta() - call_110.theta()\n",
    "portfolio_vega = call_100.vega() - call_110.vega()\n",
    "\n",
    "print(\"Bull Call Spread (Long $100 Call, Short $110 Call):\")\n",
    "print(f\"Initial cost: ${portfolio_cost:.2f}\")\n",
    "print(f\"Portfolio Delta: {portfolio_delta:.4f}\")\n",
    "print(f\"Portfolio Gamma: {portfolio_gamma:.4f}\")\n",
    "print(f\"Portfolio Theta: {portfolio_theta:.4f}\")\n",
    "print(f\"Portfolio Vega: {portfolio_vega:.4f}\")"
   ]
  },
  {
   "cell_type": "markdown",
   "metadata": {},
   "source": [
    "Question 8: How many shares of the underlying stock do you need to buy to delta-hedge a short position of 10 call option contracts (each representing 100 shares)?"
   ]
  },
  {
   "cell_type": "code",
   "execution_count": 17,
   "metadata": {},
   "outputs": [
    {
     "name": "stdout",
     "output_type": "stream",
     "text": [
      "Delta of the call option: 0.4099\n",
      "To delta-hedge a short position of 10 call option contracts:\n",
      "Buy 410 shares of the underlying stock\n"
     ]
    }
   ],
   "source": [
    "delta = call_option.delta()\n",
    "\n",
    "# Number of option contracts\n",
    "num_contracts = 10\n",
    "shares_per_contract = 100\n",
    "\n",
    "# Calculate hedge amount\n",
    "shares_to_buy = delta * num_contracts * shares_per_contract\n",
    "\n",
    "print(f\"Delta of the call option: {delta:.4f}\")\n",
    "print(f\"To delta-hedge a short position of {num_contracts} call option contracts:\")\n",
    "print(f\"Buy {shares_to_buy:.0f} shares of the underlying stock\")\n"
   ]
  },
  {
   "cell_type": "markdown",
   "metadata": {},
   "source": [
    "#### GBM Lognormal"
   ]
  },
  {
   "cell_type": "markdown",
   "metadata": {},
   "source": [
    "Question: A stock price follows a geometric Brownian motion with current price $\\$100$, annual drift of $5\\%$, and annual volatility of $20\\%$. What is the probability that the stock price will exceed $\\$120$ in 6 months?"
   ]
  },
  {
   "cell_type": "code",
   "execution_count": 19,
   "metadata": {},
   "outputs": [
    {
     "name": "stdout",
     "output_type": "stream",
     "text": [
      "Current stock price: $100\n",
      "Target price: $120\n",
      "Time horizon: 6.0 months\n",
      "Probability that the stock price exceeds $120: 0.1184 or 11.84%\n",
      "\n",
      "Distribution statistics:\n",
      "Expected stock price (mean): $102.53\n",
      "Median stock price: $101.51\n",
      "Most likely stock price (mode): $99.50\n",
      "Variance: 212.37\n",
      "Standard deviation: $14.57\n"
     ]
    }
   ],
   "source": [
    "import numpy as np\n",
    "# Parameters\n",
    "x = 120       # Target price we want to analyze\n",
    "X_t = 100     # Current stock price\n",
    "mu = 0.05     # Annual drift (5%)\n",
    "sigma = 0.20  # Annual volatility (20%)\n",
    "T_minus_t = 0.5  # Time horizon (6 months = 0.5 years)\n",
    "\n",
    "# Get the statistics \n",
    "stats = gbm_lognormal(x, X_t, mu, sigma, T_minus_t)\n",
    "\n",
    "# Unpack the list for easier access\n",
    "cdf, pdf, mean, median, mode, variance = stats\n",
    "\n",
    "# Calculate the probability P(X > 120)\n",
    "prob_above_120 = 1 - cdf\n",
    "\n",
    "print(f\"Current stock price: ${X_t}\")\n",
    "print(f\"Target price: ${x}\")\n",
    "print(f\"Time horizon: {T_minus_t*12} months\")\n",
    "print(f\"Probability that the stock price exceeds ${x}: {prob_above_120:.4f} or {prob_above_120*100:.2f}%\")\n",
    "print(f\"\\nDistribution statistics:\")\n",
    "print(f\"Expected stock price (mean): ${mean:.2f}\")\n",
    "print(f\"Median stock price: ${median:.2f}\")\n",
    "print(f\"Most likely stock price (mode): ${mode:.2f}\")\n",
    "print(f\"Variance: {variance:.2f}\")\n",
    "print(f\"Standard deviation: ${np.sqrt(variance):.2f}\")"
   ]
  },
  {
   "cell_type": "markdown",
   "metadata": {},
   "source": []
  }
 ],
 "metadata": {
  "kernelspec": {
   "display_name": "Python 3",
   "language": "python",
   "name": "python3"
  },
  "language_info": {
   "codemirror_mode": {
    "name": "ipython",
    "version": 3
   },
   "file_extension": ".py",
   "mimetype": "text/x-python",
   "name": "python",
   "nbconvert_exporter": "python",
   "pygments_lexer": "ipython3",
   "version": "3.11.4"
  }
 },
 "nbformat": 4,
 "nbformat_minor": 2
}
