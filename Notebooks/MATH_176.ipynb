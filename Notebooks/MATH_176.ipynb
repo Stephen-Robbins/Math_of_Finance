{
  "nbformat": 4,
  "nbformat_minor": 0,
  "metadata": {
    "colab": {
      "provenance": [],
      "collapsed_sections": [
        "FSYnz78ftr3B",
        "QaLOaayl06IL"
      ],
      "authorship_tag": "ABX9TyPquEFln7XI7uO1BmfaQW5c",
      "include_colab_link": true
    },
    "kernelspec": {
      "name": "python3",
      "display_name": "Python 3"
    },
    "language_info": {
      "name": "python"
    }
  },
  "cells": [
    {
      "cell_type": "markdown",
      "metadata": {
        "id": "view-in-github",
        "colab_type": "text"
      },
      "source": [
        "<a href=\"https://colab.research.google.com/github/Stephen-Robbins/Math_of_Finance/blob/main/MATH_176.ipynb\" target=\"_parent\"><img src=\"https://colab.research.google.com/assets/colab-badge.svg\" alt=\"Open In Colab\"/></a>"
      ]
    },
    {
      "cell_type": "markdown",
      "source": [
        "# Optimal Bets and Profit for n-Outcome Arbitrage\n"
      ],
      "metadata": {
        "id": "FSYnz78ftr3B"
      }
    },
    {
      "cell_type": "markdown",
      "source": [
        "This code implements the solution to the following theorem:\n",
        "\n",
        "**Theorem 2 (Optimal Bets and Profit for n Outcomes):**\n",
        "*Let $O_1:1, O_2:1, \\ldots, O_n:1$ be the odds offered for n mutually exclusive outcomes, and let N be the total amount to bet. The optimal bet amount on outcome i, denoted by $x_i^*$, and the guaranteed profit, denoted by $p^*$, are given by:*\n",
        "\n",
        "$$x_i^* = \\frac{N}{\\sum_{j=1}^n \\frac{1}{1+O_j}} \\cdot \\frac{1}{1+O_i}$$\n",
        "\n",
        "$$p^* = N \\left(\\frac{\\prod_{i=1}^n (1+O_i)}{\\sum_{j=1}^n \\prod_{k \\neq j} (1+O_k)} - 1\\right)$$\n",
        "\n",
        "\n",
        "The `calculate_optimal_bets` function below implements these formulas. Here's what it does:\n",
        "\n",
        "1. It takes two inputs:\n",
        "   - `odds`: A list or array of odds for each outcome. Odds must be of the form $O_i:1$.\n",
        "   - `total_money`: The total amount of money available for betting\n",
        "\n",
        "2. It calculates the optimal bet for each outcome using the formula for $x_i^*$\n",
        "\n",
        "3. It calculates the guaranteed profit using the formula for $p^*$\n",
        "\n",
        "4. It returns a tuple containing:\n",
        "   - An array of optimal bet amounts for each outcome\n",
        "   - The guaranteed profit\n"
      ],
      "metadata": {
        "id": "1tMGt46j1MbS"
      }
    },
    {
      "cell_type": "code",
      "execution_count": null,
      "metadata": {
        "id": "Vur_2kpN6t3Q"
      },
      "outputs": [],
      "source": [
        "import numpy as np\n",
        "\n",
        "def calculate_optimal_bets(odds, total_money):\n",
        "\n",
        "    # Convert odds to numpy array for easier calculations\n",
        "    odds = np.array(odds)\n",
        "\n",
        "    # Calculate the denominator for optimal bets formula\n",
        "    denominator = np.sum(1 / (1 + odds))\n",
        "\n",
        "    # Calculate optimal bets for each outcome\n",
        "    optimal_bets = total_money / denominator * (1 / (1 + odds))\n",
        "\n",
        "    # Calculate the guaranteed profit\n",
        "    profit = total_money * (np.prod(1 + odds) / np.sum(np.prod(1 + odds) / (1 + odds)) - 1)\n",
        "\n",
        "    return optimal_bets, profit"
      ]
    },
    {
      "cell_type": "code",
      "source": [
        "#example\n",
        "#0_A:1 Odds=a/b to 3/2 to 1\n",
        "\n",
        "odds = [1.0, 2.]\n",
        "total_money = 100\n",
        "\n",
        "optimal_bets, profit = calculate_optimal_bets(odds, total_money)\n",
        "\n",
        "print(f\"Odds: {odds}\")\n",
        "print(f\"Total money: ${total_money}\")\n",
        "print(f\"Optimal bets: {optimal_bets}\")\n",
        "print(f\"Guaranteed profit: ${profit:.2f}\")\n",
        "\n"
      ],
      "metadata": {
        "colab": {
          "base_uri": "https://localhost:8080/"
        },
        "id": "7OqzBnaoshJD",
        "outputId": "9b1647de-8847-4d7b-e91f-de5053ead553"
      },
      "execution_count": null,
      "outputs": [
        {
          "output_type": "stream",
          "name": "stdout",
          "text": [
            "Odds: [1.0, 2.0]\n",
            "Total money: $100\n",
            "Optimal bets: [60. 40.]\n",
            "Guaranteed profit: $20.00\n"
          ]
        }
      ]
    },
    {
      "cell_type": "markdown",
      "source": [
        "# Probability to odds and odds to probability conversion"
      ],
      "metadata": {
        "id": "QaLOaayl06IL"
      }
    },
    {
      "cell_type": "code",
      "source": [
        "def probability_to_odds(probability):\n",
        "    \"\"\"\n",
        "    Convert probability to odds.\n",
        "\n",
        "    Args:\n",
        "    probability (float): A value between 0 and 1 representing the probability.\n",
        "\n",
        "    Returns:\n",
        "    float: The corresponding odds.\n",
        "    \"\"\"\n",
        "    if probability <= 0 or probability >= 1:\n",
        "        raise ValueError(\"Probability must be between 0 and 1\")\n",
        "    return (1 - probability) / probability\n",
        "\n",
        "def odds_to_probability(odds):\n",
        "    \"\"\"\n",
        "    Convert odds to probability.\n",
        "\n",
        "    Args:\n",
        "    odds (float): The odds value.\n",
        "\n",
        "    Returns:\n",
        "    float: The corresponding probability between 0 and 1.\n",
        "    \"\"\"\n",
        "    return 1 / (odds + 1)\n",
        "\n",
        "\n",
        "\n"
      ],
      "metadata": {
        "id": "DKzEpAfc0xAG"
      },
      "execution_count": null,
      "outputs": []
    },
    {
      "cell_type": "code",
      "source": [
        "# Example usage\n",
        "prob = 0.2\n",
        "print(\"Probability to Odds:\")\n",
        "odds = probability_to_odds(prob)\n",
        "print(f\"Probability: {prob:.2f}, Odds: {odds:.2f}\")\n",
        "\n",
        "print(\"\\nOdds to Probability:\")\n",
        "odds=4.0\n",
        "prob = odds_to_probability(odds)\n",
        "print(f\"Odds: {odds:.2f}, Probability: {prob:.2f}\")\n"
      ],
      "metadata": {
        "colab": {
          "base_uri": "https://localhost:8080/"
        },
        "id": "iYSlSGRT01gO",
        "outputId": "a85f29ca-e6b1-4d5c-c234-08705bab7b22"
      },
      "execution_count": null,
      "outputs": [
        {
          "output_type": "stream",
          "name": "stdout",
          "text": [
            "Probability to Odds:\n",
            "Probability: 0.20, Odds: 4.00\n",
            "\n",
            "Odds to Probability:\n",
            "Odds: 4.00, Probability: 0.20\n"
          ]
        }
      ]
    },
    {
      "cell_type": "markdown",
      "source": [
        "# Introduction to Options\n"
      ],
      "metadata": {
        "id": "lEqjAQRBh20E"
      }
    },
    {
      "cell_type": "markdown",
      "source": [
        "## Option Terminology"
      ],
      "metadata": {
        "id": "86aTbSS9svNq"
      }
    },
    {
      "cell_type": "markdown",
      "source": [
        "Options are financial derivatives that give buyers the right, but not the obligation, to buy or sell an underlying asset at a specified price, known as the strike price, before a certain expiration date.\n",
        "\n",
        "- **Long Position (Buying an Option):** The buyer of the option holds a long position. They have the right to exercise the option.\n",
        "- **Short Position (Selling/Writing an Option):** The seller or writer of the option holds a short position. They have the obligation to fulfill the contract if the buyer exercises the option.\n",
        "\n",
        "\n",
        "- **Call Option:** Gives the holder the right to buy the underlying asset.\n",
        "- **Put Option:** Gives the holder the right to sell the underlying asset.\n",
        "\n",
        "- **In the Money:**\n",
        "  - For a call option, when the underlying asset price is above the strike price.\n",
        "  - For a put option, when the underlying asset price is below the strike price.\n",
        "- **At the Money:** The underlying asset's price is equal to the strike price.\n",
        "- **Out of the Money:**\n",
        "  - For a call option, when the underlying asset price is below the strike price.\n",
        "  - For a put option, when the underlying asset price is above the strike price.\n",
        "\n",
        "- **Expiration Date:** The date on which the option expires. If the option is not exercised by this date, it becomes worthless.\n",
        "\n",
        "- **Premium:** The price paid by the buyer to the seller to acquire the rights that the option grants.\n",
        "\n",
        "\n",
        "The profit for options can be calculated as follows:\n",
        "\n",
        "- **Call Option Profit:**\n",
        "  $$\\text{Profit} = \\max(S - E, 0) - \\text{Premium}$$\n",
        "  Where $S$ is the spot price of the underlying asset and $E$ is the strike price.\n",
        "\n",
        "- **Put Option Profit:**\n",
        "  $$\\text{Profit} = \\max(E - S, 0) - \\text{Premium}$$\n",
        "  Where $S$ is the spot price of the underlying asset and $E$ is the strike price."
      ],
      "metadata": {
        "id": "6APCqlV8ibpv"
      }
    },
    {
      "cell_type": "markdown",
      "source": [
        "## Option Strategies"
      ],
      "metadata": {
        "id": "7A2L25qWtAoG"
      }
    },
    {
      "cell_type": "markdown",
      "source": [
        "\n",
        "In the context of options trading, a portfolio can be constructed using various combinations of call and put options. The profit or loss of these portfolios is evaluated at expiration time \\( t = T \\). Below, we discuss several types of option portfolios, their profit calculations, and the market expectations that might lead an investor to adopt each strategy.\n",
        "\n",
        "Let $ C_E $ denote a call option with strike price $ E $, and $ P_E $ denote a put option with the same strike price. A negative sign (e.g., $ -C_E $) indicates a short position in the option.\n",
        "\n",
        "\n",
        "\n",
        "1. **Long Call**: $\\text{Port} = C_E $\n",
        "\n",
        "2. **Short Call**: $ \\text{Port} = -C_E $\n",
        "\n",
        "3. **Long Put**: $ \\text{Port} = P_E $\n",
        "   \n",
        "4. **Short Put**: $ \\text{Port} = -P_E $\n",
        "  \n",
        "5. **Long Straddle**: $ \\text{Port} = P_E + C_E $\n",
        "  \n",
        "6. **Short Straddle**: $ \\text{Port} = -P_E - C_E $\n",
        "   \n",
        "7. **Long Strangle**: $ \\text{Port} = P_{E1} + C_{E2} $\n",
        "  \n",
        "8. **Short Butterfly**: $ \\text{Port} = -C_{E1} + 2C_{E2} - C_{E3} $\n",
        "  \n",
        "9. **Long Butterfly**: $ \\text{Port} = C_{E1} - 2C_{E2} + C_{E3} $\n",
        "   \n",
        "10. **Short Condor**: $ \\text{Port} = -C_{E1} + C_{E2} + C_{E3} - C_{E4} $\n",
        "\n",
        "11. **Long Condor**: $ \\text{Port} = C_{E1} - C_{E2} - C_{E3} + C_{E4} $"
      ],
      "metadata": {
        "id": "wNg9YerMjLLN"
      }
    },
    {
      "cell_type": "markdown",
      "source": [
        "### calculate_option_payoff function"
      ],
      "metadata": {
        "id": "dAUtdFNSkkIS"
      }
    },
    {
      "cell_type": "code",
      "source": [
        "import numpy as np\n",
        "import matplotlib.pyplot as plt\n",
        "\n",
        "def calculate_option_payoff(strategy, strike, premium, stock_prices):\n",
        "    \"\"\"\n",
        "    Calculate the payoff for a single option based on the strategy.\n",
        "    \"\"\"\n",
        "    if strategy == \"long_call\":\n",
        "        payoff = np.maximum(stock_prices - strike, 0) - premium\n",
        "    elif strategy == \"short_call\":\n",
        "        payoff = -np.maximum(stock_prices - strike, 0) + premium\n",
        "    elif strategy == \"long_put\":\n",
        "        payoff = np.maximum(strike - stock_prices, 0) - premium\n",
        "    elif strategy == \"short_put\":\n",
        "        payoff = -np.maximum(strike - stock_prices, 0) + premium\n",
        "    else:\n",
        "        raise ValueError(\"Invalid strategy\")\n",
        "    return payoff\n",
        "\n",
        "def plot_options_strategies(strategies, stock_price_range):\n",
        "    \"\"\"\n",
        "    Plot the profit/loss for a combination of option strategies.\n",
        "    \"\"\"\n",
        "\n",
        "    stock_prices = np.linspace(stock_price_range[0], stock_price_range[1], 200)\n",
        "    total_payoff = np.zeros_like(stock_prices)\n",
        "    plt.figure(figsize=(12, 8))\n",
        "\n",
        "    # Plotting each strategy's payoff separately\n",
        "    for i, strategy in enumerate(strategies):\n",
        "        payoff = calculate_option_payoff(strategy['type'], strategy['strike'], strategy['premium'], stock_prices)\n",
        "        total_payoff += payoff\n",
        "        plt.plot(stock_prices, payoff, label=f\"{strategy['type'].replace('_', ' ').title()} (Strike: {strategy['strike']}, Premium: {strategy['premium']})\", linestyle='--')\n",
        "\n",
        "    # Plotting the total portfolio payoff\n",
        "    plt.plot(stock_prices, total_payoff, label=\"Total Portfolio Profit\", color='black', linewidth=2)\n",
        "\n",
        "    # Adding annotations for strike prices and break-even points\n",
        "    for strategy in strategies:\n",
        "        plt.axvline(x=strategy['strike'], color='grey', linestyle=':', alpha=0.7)\n",
        "        plt.text(strategy['strike'], 0, f\"Strike: {strategy['strike']}\", horizontalalignment='center', verticalalignment='bottom')\n",
        "\n",
        "    # Setting up the graph with labels, legends, and grid\n",
        "    plt.axhline(0, color='gray', lw=1)\n",
        "    plt.xlabel(\"Stock Price at Expiration\")\n",
        "    plt.ylabel(\"Profit/Loss\")\n",
        "    plt.title(\"Profit/Loss for Combined Options Strategies\")\n",
        "    plt.legend()\n",
        "    plt.grid(True)\n",
        "    plt.show()\n",
        "\n"
      ],
      "metadata": {
        "id": "gSdqQe2PjKrB"
      },
      "execution_count": null,
      "outputs": []
    },
    {
      "cell_type": "code",
      "source": [
        "\n",
        "# Example usage\n",
        "strategies = [\n",
        "    {\"type\": \"long_call\", \"strike\":235, \"premium\": 3.6},\n",
        "\n",
        "    {\"type\": \"short_call\", \"strike\": 237.5, \"premium\":1.93},\n",
        "\n",
        "    {\"type\": \"short_call\", \"strike\":240, \"premium\": .78},\n",
        "\n",
        "    {\"type\": \"long_call\", \"strike\":242.5, \"premium\": .28},\n",
        "\n",
        "]\n",
        "\n",
        "\n",
        "plot_options_strategies(strategies, (220, 250))"
      ],
      "metadata": {
        "colab": {
          "base_uri": "https://localhost:8080/",
          "height": 597
        },
        "id": "_WBGDL-jkaMz",
        "outputId": "187bb2e7-4019-41c6-a1f4-acf0b84aa52b"
      },
      "execution_count": null,
      "outputs": [
        {
          "output_type": "display_data",
          "data": {
            "text/plain": [
              "<Figure size 1200x800 with 1 Axes>"
            ],
            "image/png": "[encoded data removed]"
          },
          "metadata": {}
        }
      ]
    },
    {
      "cell_type": "markdown",
      "source": [
        "## Put Call Parity\n"
      ],
      "metadata": {
        "id": "IzRhojEhoiXC"
      }
    },
    {
      "cell_type": "markdown",
      "source": [
        "\n",
        "\n",
        "The put-call parity  principle in options pricing that explains the relationship between the price of call and put options with the same strike price and expiration date.\n",
        "\n",
        "The put-call parity equation is given by:\n",
        "\n",
        "$$ S + P_E(S, t) = C_E(S, t) + Ee^{-r(T-t)} $$\n",
        "\n",
        "where:\n",
        "\n",
        "- $ S $ is the current price of the stock (spot price).\n",
        "- $ P_E(S, t) $ is the price of the put option with strike price $E $ and time $ t $ until expiration.\n",
        "- $C_E(S, t) $ is the price of the call option with the same strike price and time to expiration as the put.\n",
        "- $E$ is the strike price of the options.\n",
        "- $ e^{-r(T-t)}$ is the present value factor for a risk-free bond that pays $ E $ at time $T $, with $ r$ being the continuously compounded risk-free interest rate and $ T-t $ being the time to maturity of the options.\n",
        "\n",
        "The put-call parity shows that the price of a call option implies a certain fair price for the corresponding put option having the same strike price and expiration, and vice versa, given the current stock price and the risk-free rate."
      ],
      "metadata": {
        "id": "eaaTgOhDon3Y"
      }
    },
    {
      "cell_type": "markdown",
      "source": [
        "### Arbitrage Put Call Parity"
      ],
      "metadata": {
        "id": "FKrI5V_jqSxJ"
      }
    },
    {
      "cell_type": "code",
      "source": [
        "import numpy as np\n",
        "\n",
        "def put_call_parity_arb(C, P, E, S, r, T):\n",
        "    \"\"\"\n",
        "    Check for arbitrage via put-call parity:\n",
        "\n",
        "        C + E*e^{-rT}  ?  P + S\n",
        "\n",
        "    - C: Call price\n",
        "    - P: Put price\n",
        "    - E: Strike price\n",
        "    - S: Current stock price\n",
        "    - r: Annualized risk-free rate (decimal), e.g. 0.05 for 5%\n",
        "    - T: Time to maturity in years (e.g. 30 days = 30/365)\n",
        "\n",
        "    Returns:\n",
        "    - (arbitrage_amount, strategy)\n",
        "    \"\"\"\n",
        "    # Present value of strike\n",
        "    E_discounted = E * np.exp(-r * T)\n",
        "\n",
        "    # Left-hand side (LHS) and right-hand side (RHS)\n",
        "    LHS = C + E_discounted\n",
        "    RHS = P + S\n",
        "\n",
        "    if LHS > RHS:\n",
        "        # LHS is overpriced => Sell Call, Buy Put, Borrow strike discount, Buy Stock\n",
        "        arbitrage_amount = LHS - RHS\n",
        "        strategy = (\n",
        "            f\"LHS > RHS by ${arbitrage_amount:.2f}: \"\n",
        "            \"Sell the Call, Buy the Put, Borrow the Present Value of Strike, Buy the Stock.\"\n",
        "        )\n",
        "    elif LHS < RHS:\n",
        "        # RHS is overpriced => Buy Call, Sell Put, Short Stock, Invest strike discount\n",
        "        arbitrage_amount = RHS - LHS\n",
        "        strategy = (\n",
        "            f\"RHS > LHS by ${arbitrage_amount:.2f}: \"\n",
        "            \"Buy the Call, Sell the Put, Short the Stock, Invest the Present Value of Strike.\"\n",
        "        )\n",
        "    else:\n",
        "        # No arbitrage\n",
        "        arbitrage_amount = 0\n",
        "        strategy = \"No arbitrage. LHS == RHS.\"\n",
        "\n",
        "    return arbitrage_amount, strategy\n"
      ],
      "metadata": {
        "id": "Khs3OMgYoxNC"
      },
      "execution_count": null,
      "outputs": []
    },
    {
      "cell_type": "code",
      "source": [
        "# Given values\n",
        "C = .8  # Price of the call option\n",
        "P =  2.85 # Price of the put option\n",
        "E = 240  # Strike price\n",
        "S = 237.87  # Current stock price\n",
        "r = 0.05 # Interest rate\n",
        "T = 2/365  # Time to expiration in years\n",
        "# Calculate the arbitrage amount and strategy\n",
        "arbitrage_amount, strategy = put_call_parity_arb(C, P, E, S, r, T)\n",
        "\n",
        "print(f\"Arbitrage opportunity of ${arbitrage_amount:.2f} exists.\")\n",
        "print(\"Strategy:\", strategy)"
      ],
      "metadata": {
        "colab": {
          "base_uri": "https://localhost:8080/"
        },
        "id": "fzgkw0TvrIZ5",
        "outputId": "e883beaa-4ee6-49b0-c4cd-0d1ec039f110"
      },
      "execution_count": null,
      "outputs": [
        {
          "output_type": "stream",
          "name": "stdout",
          "text": [
            "Arbitrage opportunity of $0.01 exists.\n",
            "Strategy: LHS > RHS by $0.01: Sell the Call, Buy the Put, Borrow the Present Value of Strike, Buy the Stock.\n"
          ]
        }
      ]
    },
    {
      "cell_type": "code",
      "source": [
        "import yfinance as yf\n",
        "from datetime import datetime\n",
        "import pandas as pd\n",
        "def find_put_call_arbitrage(ticker_symbol, expiration_date, r=0.005, strike_range=10):\n",
        "    \"\"\"\n",
        "    1) Fetch the current stock price from Yahoo Finance.\n",
        "    2) Fetch call & put data for a given expiration date.\n",
        "    3) Filter by strikes within ± strike_range of the current stock price.\n",
        "    4) Merge calls & puts on strike.\n",
        "    5) Compute T (in years) until expiration_date.\n",
        "    6) Check put-call parity for each strike to see if there's any arbitrage.\n",
        "\n",
        "    Returns a formatted DataFrame.\n",
        "    \"\"\"\n",
        "    # 1) Get current stock price\n",
        "    ticker = yf.Ticker(ticker_symbol)\n",
        "    hist = ticker.history(period=\"1d\")\n",
        "    if len(hist) == 0:\n",
        "        raise ValueError(\"Could not fetch current stock data. Check ticker or network.\")\n",
        "    S = hist[\"Close\"].iloc[-1]\n",
        "\n",
        "    # 2) Fetch options chain\n",
        "    options_chain = ticker.option_chain(expiration_date)\n",
        "    calls = options_chain.calls\n",
        "    puts = options_chain.puts\n",
        "\n",
        "    # 3) Filter strikes\n",
        "    #    Use .copy() to avoid SettingWithCopyWarning\n",
        "    calls_filtered = calls.loc[\n",
        "        (calls[\"strike\"] >= S - strike_range) &\n",
        "        (calls[\"strike\"] <= S + strike_range)\n",
        "    ].copy()\n",
        "\n",
        "    puts_filtered = puts.loc[\n",
        "        (puts[\"strike\"] >= S - strike_range) &\n",
        "        (puts[\"strike\"] <= S + strike_range)\n",
        "    ].copy()\n",
        "\n",
        "    # Compute mid-prices\n",
        "    calls_filtered[\"call_mid\"] = (calls_filtered[\"bid\"] + calls_filtered[\"ask\"]) / 2.0\n",
        "    puts_filtered[\"put_mid\"] = (puts_filtered[\"bid\"] + puts_filtered[\"ask\"]) / 2.0\n",
        "\n",
        "    calls_relevant = calls_filtered[[\"strike\", \"call_mid\"]]\n",
        "    puts_relevant = puts_filtered[[\"strike\", \"put_mid\"]]\n",
        "\n",
        "    # Merge on strike\n",
        "    merged = calls_relevant.merge(puts_relevant, on=\"strike\", how=\"inner\")\n",
        "\n",
        "    # 4) Compute time to maturity (T in years)\n",
        "    exp_date = datetime.strptime(expiration_date, \"%Y-%m-%d\")\n",
        "    now = datetime.now()\n",
        "    days_to_expiry = (exp_date - now).days\n",
        "    T = days_to_expiry / 365.0\n",
        "\n",
        "    # 5) Check put-call parity\n",
        "    results = []\n",
        "    for _, row in merged.iterrows():\n",
        "        strike = row[\"strike\"]\n",
        "        C = row[\"call_mid\"]\n",
        "        P = row[\"put_mid\"]\n",
        "\n",
        "        # Skip if we don't have valid (non-NaN) prices\n",
        "        if np.isnan(C) or np.isnan(P):\n",
        "            continue\n",
        "\n",
        "        arbitrage_amount, strategy = put_call_parity_arb(C, P, strike, S, r, T)\n",
        "\n",
        "        E_discounted = strike * np.exp(-r * T)\n",
        "        LHS = C + E_discounted\n",
        "        RHS = P + S\n",
        "\n",
        "        results.append({\n",
        "            \"Strike\": strike,\n",
        "            \"Call Price\": C,\n",
        "            \"Put Price\": P,\n",
        "            \"Stock Price\": S,\n",
        "            \"PV(Strike)\": E_discounted,\n",
        "            \"LHS\": LHS,\n",
        "            \"RHS\": RHS,\n",
        "            \"Arbitrage\": arbitrage_amount,\n",
        "            \"Strategy\": strategy\n",
        "        })\n",
        "\n",
        "    df_results = pd.DataFrame(results)\n",
        "    # Sort by absolute arbitrage amount (descending)\n",
        "    df_results.sort_values(\n",
        "        by=\"Arbitrage\",\n",
        "        key=lambda x: x.abs(),\n",
        "        ascending=False,\n",
        "        inplace=True\n",
        "    )\n",
        "\n",
        "    # OPTIONAL: Round numeric columns for a cleaner display\n",
        "    # (Feel free to adjust decimal places as needed)\n",
        "    numeric_cols = [\"Strike\", \"Call Price\", \"Put Price\", \"Stock Price\",\n",
        "                    \"PV(Strike)\", \"LHS\", \"RHS\", \"Arbitrage\"]\n",
        "    for col in numeric_cols:\n",
        "        df_results[col] = df_results[col].round(3)\n",
        "\n",
        "    return df_results\n"
      ],
      "metadata": {
        "id": "W6Ro3nbLuNzl"
      },
      "execution_count": null,
      "outputs": []
    },
    {
      "cell_type": "code",
      "source": [
        "df_arbitrage = find_put_call_arbitrage(\n",
        "         ticker_symbol=\"NVDA\",\n",
        "         expiration_date=\"2025-03-21\",\n",
        "         r=0.05,          # 0.5% annual risk-free rate\n",
        "         strike_range=5   # Only look at strikes within ±$strike_range of the current stock price\n",
        "     )\n",
        "print(df_arbitrage)"
      ],
      "metadata": {
        "colab": {
          "base_uri": "https://localhost:8080/"
        },
        "id": "7AJiOW1pv6Qa",
        "outputId": "96ffdb2d-3e84-4589-ba2e-f6fc6230dced"
      },
      "execution_count": null,
      "outputs": [
        {
          "output_type": "stream",
          "name": "stdout",
          "text": [
            "   Strike  Call Price  Put Price  Stock Price  PV(Strike)      LHS      RHS  \\\n",
            "4   137.0      11.575     10.700       136.24     135.804  147.379  146.940   \n",
            "6   139.0      10.775     12.125       136.24     137.787  148.562  148.365   \n",
            "3   136.0      12.050     10.550       136.24     134.813  146.863  146.790   \n",
            "2   135.0      12.525     10.050       136.24     133.822  146.347  146.290   \n",
            "5   138.0      11.100     11.700       136.24     136.795  147.895  147.940   \n",
            "1   134.0      13.100      9.650       136.24     132.830  145.930  145.890   \n",
            "0   132.0      14.100      8.675       136.24     130.848  144.948  144.915   \n",
            "8   141.0       9.825     13.325       136.24     139.769  149.594  149.565   \n",
            "7   140.0      10.125     12.650       136.24     138.778  148.903  148.890   \n",
            "\n",
            "   Arbitrage                                           Strategy  \n",
            "4      0.439  LHS > RHS by $0.44: Sell the Call, Buy the Put...  \n",
            "6      0.197  LHS > RHS by $0.20: Sell the Call, Buy the Put...  \n",
            "3      0.073  LHS > RHS by $0.07: Sell the Call, Buy the Put...  \n",
            "2      0.057  LHS > RHS by $0.06: Sell the Call, Buy the Put...  \n",
            "5      0.045  RHS > LHS by $0.04: Buy the Call, Sell the Put...  \n",
            "1      0.040  LHS > RHS by $0.04: Sell the Call, Buy the Put...  \n",
            "0      0.033  LHS > RHS by $0.03: Sell the Call, Buy the Put...  \n",
            "8      0.029  LHS > RHS by $0.03: Sell the Call, Buy the Put...  \n",
            "7      0.013  LHS > RHS by $0.01: Sell the Call, Buy the Put...  \n"
          ]
        }
      ]
    },
    {
      "cell_type": "markdown",
      "source": [
        "\n",
        "# Probability Code"
      ],
      "metadata": {
        "id": "eqWawkmffVUg"
      }
    },
    {
      "cell_type": "markdown",
      "source": [
        "## Expected Value and Variance"
      ],
      "metadata": {
        "id": "79FT2Y8qfgw9"
      }
    },
    {
      "cell_type": "code",
      "source": [
        "def discrete_expected_value_and_variance(probabilities, values):\n",
        "    \"\"\"\n",
        "    Calculates the expected value and variance of a discrete random variable.\n",
        "\n",
        "    :param probabilities: list or array of probabilities [p_1, p_2, ..., p_n]\n",
        "    :param values: list or array of corresponding values [x_1, x_2, ..., x_n]\n",
        "    :return: (E, Var) where E is expected value and Var is variance\n",
        "    \"\"\"\n",
        "    # Check that the lengths match\n",
        "    if len(probabilities) != len(values):\n",
        "        raise ValueError(\"The length of probabilities must match the length of values.\")\n",
        "\n",
        "    # Check that probabilities sum to 1 (within a small tolerance)\n",
        "    if abs(sum(probabilities) - 1.0) > 1e-8:\n",
        "        raise ValueError(\"The sum of the probabilities must be 1.\")\n",
        "\n",
        "    # Compute E(X)\n",
        "    expected_value = sum(p * x for p, x in zip(probabilities, values))\n",
        "\n",
        "    # Compute E(X^2)\n",
        "    expected_value_sq = sum(p * (x**2) for p, x in zip(probabilities, values))\n",
        "\n",
        "    # Variance = E(X^2) - [E(X)]^2\n",
        "    variance = expected_value_sq - (expected_value**2)\n",
        "\n",
        "    return expected_value, variance\n",
        "\n",
        "P=[1/3, 1/3, 1/3]\n",
        "x=[1, -1, 0]\n",
        "expected_value, variance=discrete_expected_value_and_variance(P, x)\n",
        "print(f\"Expected Value: {expected_value}\")\n",
        "print(f\"Variance: {variance}\")"
      ],
      "metadata": {
        "id": "D8jwg-oLfmbz",
        "colab": {
          "base_uri": "https://localhost:8080/"
        },
        "outputId": "a52a53b7-f25b-45ed-d50c-6a9d7dd7ab6c"
      },
      "execution_count": null,
      "outputs": [
        {
          "output_type": "stream",
          "name": "stdout",
          "text": [
            "Expected Value: 0.0\n",
            "Variance: 0.6666666666666666\n"
          ]
        }
      ]
    },
    {
      "cell_type": "code",
      "source": [
        "import numpy as np\n",
        "from scipy.integrate import quad\n",
        "\n",
        "def continuous_expected_value_and_variance(pdf_func, a, b):\n",
        "    \"\"\"\n",
        "    Calculates the expected value and variance of a continuous random variable\n",
        "    defined on [a, b] using numerical integration.\n",
        "\n",
        "    :param pdf_func: A Python function that returns the PDF value at x, e.g., f(x).\n",
        "    :param a: Lower bound of the domain.\n",
        "    :param b: Upper bound of the domain.\n",
        "    :return: (E, Var) tuple where\n",
        "             E   = the expected value (float)\n",
        "             Var = the variance (float)\n",
        "    \"\"\"\n",
        "\n",
        "    # 1) Check if PDF integrates to 1 on [a, b]\n",
        "    total_prob, _ = quad(pdf_func, a, b)\n",
        "    if abs(total_prob - 1.0) > 1e-7:\n",
        "        raise ValueError(f\"PDF does not integrate to 1 over [{a}, {b}] (got {total_prob}).\")\n",
        "\n",
        "    # 2) Compute E(X) = ∫ x f(x) dx\n",
        "    def integrand_for_mean(x):\n",
        "        return x * pdf_func(x)\n",
        "\n",
        "    E, _ = quad(integrand_for_mean, a, b)\n",
        "\n",
        "    # 3) Compute E(X^2) = ∫ x^2 f(x) dx\n",
        "    def integrand_for_mean_sq(x):\n",
        "        return (x**2) * pdf_func(x)\n",
        "\n",
        "    E_sq, _ = quad(integrand_for_mean_sq, a, b)\n",
        "\n",
        "    # 4) Compute Variance = E(X^2) - [E(X)]^2\n",
        "    variance = E_sq - (E**2)\n",
        "\n",
        "    return E, variance\n",
        "\n",
        "def pdf(x):\n",
        "  return 2*x\n",
        "\n",
        "E, var=continuous_expected_value_and_variance(pdf, 0, 1)\n",
        "print(f\"Expected Value: {E}\")\n",
        "print(f\"Variance: {var}\")\n"
      ],
      "metadata": {
        "id": "q79Sr01yhOXp",
        "colab": {
          "base_uri": "https://localhost:8080/"
        },
        "outputId": "cfbb58d8-1e9d-427e-c5d1-52ebc781fb28"
      },
      "execution_count": null,
      "outputs": [
        {
          "output_type": "stream",
          "name": "stdout",
          "text": [
            "Expected Value: 0.6666666666666667\n",
            "Variance: 0.05555555555555547\n"
          ]
        }
      ]
    },
    {
      "cell_type": "markdown",
      "source": [
        "## Normal Distribtuion"
      ],
      "metadata": {
        "id": "QLQSvNweuzFJ"
      }
    },
    {
      "cell_type": "code",
      "source": [
        "import math\n",
        "import numpy as np\n",
        "from scipy.stats import norm\n",
        "\n",
        "def normal_prob(b, mu, sigma_sq):\n",
        "    \"\"\"\n",
        "    Calculate P(X <= b) where X ~ N(mu, sigma_sq).\n",
        "\n",
        "    :param b: Upper limit (scalar).\n",
        "    :param mu: Mean of the normal distribution (scalar).\n",
        "    :param sigma_sq: Variance of the normal distribution (scalar).\n",
        "    :return: Probability P(X <= b).\n",
        "    \"\"\"\n",
        "    if sigma_sq <= 0:\n",
        "        raise ValueError(\"Variance sigma_sq must be positive.\")\n",
        "\n",
        "    # Standard deviation\n",
        "    sigma = math.sqrt(sigma_sq)\n",
        "\n",
        "    # Standardize and use the standard normal CDF\n",
        "    z = (b - mu) / sigma\n",
        "    p = norm.cdf(z)\n",
        "    return p\n",
        "\n",
        "# Suppose X ~ N(mu=2, sigma^2=4), i.e., sigma=2\n",
        "# We want P(X <= b) for b = 3\n",
        "b_val = 3\n",
        "mu_val = 2\n",
        "sigma_sq_val = 4\n",
        "\n",
        "probability = normal_prob(b_val, mu_val, sigma_sq_val)\n",
        "print(\"Normal Distribution Example\")\n",
        "print(f\"X ~ N(mu={mu_val}, sigma^2={sigma_sq_val})\")\n",
        "print(f\"Probability P(X <= {b_val}) = {probability}\")"
      ],
      "metadata": {
        "colab": {
          "base_uri": "https://localhost:8080/"
        },
        "id": "eP7hiEhrilhc",
        "outputId": "1567d7ea-a0f5-4ed6-87c6-c8f02a627da9"
      },
      "execution_count": null,
      "outputs": [
        {
          "output_type": "stream",
          "name": "stdout",
          "text": [
            "Normal Distribution Example\n",
            "X ~ N(mu=2, sigma^2=4)\n",
            "Probability P(X <= 3) = 0.6914624612740131\n"
          ]
        }
      ]
    },
    {
      "cell_type": "markdown",
      "source": [
        "## CLT\n"
      ],
      "metadata": {
        "id": "9uVrYAOcvDG1"
      }
    },
    {
      "cell_type": "code",
      "source": [
        "def clt(mu, sigma_sq, n):\n",
        "    \"\"\"\n",
        "    Demonstrate the Central Limit Theorem for i.i.d. random variables X_i ~ (mu, sigma_sq).\n",
        "\n",
        "    - S_n = X_1 + ... + X_n\n",
        "      E[S_n] = n * mu\n",
        "      Var(S_n) = n * sigma_sq\n",
        "\n",
        "    - S_n / n\n",
        "      E[S_n / n] = mu\n",
        "      Var(S_n / n) = sigma_sq / n\n",
        "\n",
        "\n",
        "    :param mu:       Mean of each X_i.\n",
        "    :param sigma_sq: Variance of each X_i.\n",
        "    :param n:        Number of i.i.d. trials.\n",
        "    \"\"\"\n",
        "\n",
        "    if sigma_sq <= 0:\n",
        "        raise ValueError(\"Variance must be positive.\")\n",
        "    if n <= 0:\n",
        "        raise ValueError(\"Number of trials n must be positive.\")\n",
        "\n",
        "    # Mean and variance of S_n\n",
        "    mean_Sn = n * mu\n",
        "    var_Sn = n * sigma_sq\n",
        "\n",
        "    # Mean and variance of S_n / n\n",
        "    mean_SnOverN = mu\n",
        "    var_SnOverN  = sigma_sq / n\n",
        "\n",
        "    return mean_Sn, var_Sn, mean_SnOverN, var_SnOverN"
      ],
      "metadata": {
        "id": "Mm-8BrYNvJqQ"
      },
      "execution_count": null,
      "outputs": []
    },
    {
      "cell_type": "code",
      "source": [
        "#Example:\n",
        "\n",
        "mu= 2.0       # mean of each X_i\n",
        "var = 4.0 # variance of each X_i\n",
        "n = 30         # number of i.i.d. trials\n",
        "\n",
        "\n",
        "mean_Sn, var_Sn, mean_SnOverN, var_SnOverN  = clt(mu, var, n)\n",
        "print(f\"Sample mean:{mean_SnOverN}\" )\n",
        "print(f\"Sample Variance:{var_SnOverN}\")\n",
        "print(f\"Sum Mean:{mean_Sn}\")\n",
        "print(f\"Sum Variance:{var_Sn}\")"
      ],
      "metadata": {
        "colab": {
          "base_uri": "https://localhost:8080/"
        },
        "id": "elZeXSK8vlAc",
        "outputId": "ccd847ae-b67d-4a42-fbfe-8973da1e0f8e"
      },
      "execution_count": null,
      "outputs": [
        {
          "output_type": "stream",
          "name": "stdout",
          "text": [
            "Sample mean:2.0\n",
            "Sample Variance:0.13333333333333333\n",
            "Sum Mean:60.0\n",
            "Sum Variance:120.0\n"
          ]
        }
      ]
    },
    {
      "cell_type": "code",
      "source": [
        "'''\n",
        "list of functions for far (Midterm 1):\n",
        "\n",
        "calculate_optimal_bets(odds, total_money)\n",
        "probability_to_odds(probability)\n",
        "odds_to_probability(odds)\n",
        "calculate_option_payoff(strategy, strike, premium, stock_prices)\n",
        "plot_options_strategies(strategies, stock_price_range)\n",
        "put_call_parity_arb(C, P, E, S, r, T)\n",
        "discrete_expected_value_and_variance(probabilities, values)\n",
        "continuous_expected_value_and_variance(pdf_func, a, b)\n",
        "normal_prob(b, mu, sigma_sq)\n",
        "clt(mu, sigma_sq, n)\n",
        "\n",
        "'''\n",
        "\n"
      ],
      "metadata": {
        "colab": {
          "base_uri": "https://localhost:8080/",
          "height": 69
        },
        "id": "qzDKIJ3Wwyjl",
        "outputId": "7d719f47-2bae-4be9-c7e0-30fc3bba6074"
      },
      "execution_count": null,
      "outputs": [
        {
          "output_type": "execute_result",
          "data": {
            "text/plain": [
              "'\\nlist of functions for far:\\n\\ncalculate_optimal_bets(odds, total_money)\\nprobability_to_odds(probability)\\nodds_to_probability(odds)\\ncalculate_option_payoff(strategy, strike, premium, stock_prices)\\nplot_options_strategies(strategies, stock_price_range)\\nput_call_parity_arb(C, P, E, S, r, T)\\ndiscrete_expected_value_and_variance(probabilities, values)\\ncontinuous_expected_value_and_variance(pdf_func, a, b)\\nnormal_prob(b, mu, sigma_sq)\\nclt(mu, sigma_sq, n)\\n\\n'"
            ],
            "application/vnd.google.colaboratory.intrinsic+json": {
              "type": "string"
            }
          },
          "metadata": {},
          "execution_count": 35
        }
      ]
    },
    {
      "cell_type": "markdown",
      "source": [
        "# Probelm Solving\n"
      ],
      "metadata": {
        "id": "Et3qGdysxhqA"
      }
    },
    {
      "cell_type": "markdown",
      "source": [
        "## Problem 1\n",
        "A stock is currently priced at \\$100 per share. By tomorrow, its price will either drop to \\$50 or rise to \\$200.  \n",
        "\n",
        "Meanwhile, a casino offers bets on the price change at 1:1 odds.  \n",
        "\n",
        "What’s the maximum arbitrage? You have $100 and you can buy fractional shares."
      ],
      "metadata": {
        "id": "e_n1fyhcxvLp"
      }
    },
    {
      "cell_type": "code",
      "source": [
        "# put x in Stock and 100-x in casino betting on decrease\n",
        "x=200/3.5\n",
        "P1= x-(100- x)\n",
        "P2=((100-x)-.5*x)\n",
        "print(x, P1, P2)"
      ],
      "metadata": {
        "colab": {
          "base_uri": "https://localhost:8080/"
        },
        "id": "8vKgDemcaAvw",
        "outputId": "3d35ea54-90c3-4d2a-e72d-2ffca7db1b8f"
      },
      "execution_count": null,
      "outputs": [
        {
          "output_type": "stream",
          "name": "stdout",
          "text": [
            "57.142857142857146 14.285714285714292 14.285714285714281\n"
          ]
        }
      ]
    },
    {
      "cell_type": "markdown",
      "source": [
        "## Problem 2\n",
        "\n",
        "\n",
        "Suppose the PDF is given by:\n",
        "\n",
        "$$\n",
        "f(x) = Cx^2, \\quad \\text{for } 1 \\leq x \\leq 2\n",
        "$$\n",
        "\n",
        "and zero otherwise.\n",
        "\n",
        " (a)\n",
        "Find the value of $C $.\n",
        "\n",
        "(b)\n",
        "Find the likelihood that a point selected at random with respect to this PDF is between $1.5 $ and $ 2 $.\n",
        "\n",
        "(c)\n",
        "With $X(x) = x $, find $ E(X) $ and $ \\text{Var}(X) $.\n"
      ],
      "metadata": {
        "id": "JtXZyW5j737I"
      }
    },
    {
      "cell_type": "code",
      "source": [
        "c=3/7\n",
        "def pdf_func(x):\n",
        "  return c*x**2\n",
        "E, Var=continuous_expected_value_and_variance(pdf_func, a=1, b=2)\n",
        "\n",
        "print(f\"Expected Value: {E}\")\n",
        "print(f\"Variance: {Var}\")"
      ],
      "metadata": {
        "colab": {
          "base_uri": "https://localhost:8080/"
        },
        "id": "tPiWpY6Rbp2P",
        "outputId": "fd569ae1-a724-4613-fd4f-2de2a81470dc"
      },
      "execution_count": null,
      "outputs": [
        {
          "output_type": "stream",
          "name": "stdout",
          "text": [
            "Expected Value: 1.6071428571428572\n",
            "Variance: 0.07423469387755066\n"
          ]
        }
      ]
    },
    {
      "cell_type": "markdown",
      "source": [
        "## Problem 3\n",
        "\n",
        "\n",
        "Suppose the only game in town involves flipping a fair coin (so Heads and Tails  \n",
        "are equally likely) with a bet of $ x $.  \n",
        "\n",
        "- If Heads comes up, the payoff is $ 0.9x $.  \n",
        "- If Tails comes up, you lose the full amount $ x $.  \n",
        "\n",
        "You have $\\$10,000$ and must win at least $\\$5,000$ by tomorrow morning to pay off a debt to a mean dude.\n",
        "\n",
        "(a)\n",
        "Compute the likelihood of winning at least $\\$5,000$ by making a single bet of \\$10,000.\n",
        "\n",
        "(b)\n",
        "Compute the likelihood of winning at least $\\$1,000$ by playing the game $10,000$ times and betting \\$1 each time.  \n",
        "\n",
        "What is the likelihood of not losing money?\n",
        "\n"
      ],
      "metadata": {
        "id": "6CuBlgSY74A4"
      }
    },
    {
      "cell_type": "code",
      "source": [
        "# compute E, Var of X\n",
        "n=10000\n",
        "b=1000\n",
        "probabilities=[1/2, 1/2]\n",
        "values=[.9, -1.]\n",
        "E, var=discrete_expected_value_and_variance(probabilities, values)\n",
        "\n",
        "mu, variance, _, _=clt(E, Var, n)\n",
        "\n",
        "p=normal_prob(b, mu, variance)\n",
        "\n",
        "print(1-p)\n"
      ],
      "metadata": {
        "colab": {
          "base_uri": "https://localhost:8080/"
        },
        "id": "uRQSbTRgcwKP",
        "outputId": "af9c5a19-574b-4153-cdbf-2babc2a9cd57"
      },
      "execution_count": null,
      "outputs": [
        {
          "output_type": "stream",
          "name": "stdout",
          "text": [
            "0.0\n"
          ]
        }
      ]
    },
    {
      "cell_type": "markdown",
      "source": [
        "## Problem 4\n",
        "\n",
        "\n",
        "\n",
        "A math of finance student needs to take out a one-year loan of \\$14,700. The bank offers a loan rate of 7% for students.\n",
        "\n",
        "They also notice the following information about Apple (AAPL) stock and options:\n",
        "\n",
        "- **Current AAPL stock price**: \\$150  \n",
        "- **1-year European call option on AAPL with strike price \\$150**: \\$15  \n",
        "- **1-year European put option on AAPL with strike price \\$150**: \\$12  \n",
        "\n",
        "What is the best interest rate the student can get?\n"
      ],
      "metadata": {
        "id": "WG4rmpgr74Gu"
      }
    },
    {
      "cell_type": "markdown",
      "source": [
        "## Problem 5\n",
        "\n",
        "You can buy and sell oranges in a farmer's market under the following conditions:\n",
        "\n",
        "- **Market Trading:**\n",
        "  - The current price of an orange at time **T₀** is **$10**.\n",
        "  - The price at time **T₁** is **unknown**.\n",
        "\n",
        "- **European Call Option:**\n",
        "  - Cost: **\\$0.50** per option.\n",
        "  - Strike price: **\\$9**.\n",
        "  - Expiration: **T₁**.\n",
        "\n",
        "- **Neighbor Lending/Borrowing:**\n",
        "  - Your friendly neighbor can **lend you one orange** or **borrow one from you** at **T₀**.\n",
        "  - If you borrow an orange, you must **return one orange at T₁**.\n",
        "\n",
        "- **Bank Loans:**\n",
        "  - You can **lend or borrow money** with a **10\\% interest rate**.\n",
        "\n",
        "Can you find arbitrage?\n"
      ],
      "metadata": {
        "id": "BoLDzmzV1eFU"
      }
    }
  ]
}