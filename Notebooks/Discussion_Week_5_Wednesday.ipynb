{
 "cells": [
  {
   "cell_type": "code",
   "execution_count": null,
   "metadata": {},
   "outputs": [
    {
     "ename": "ModuleNotFoundError",
     "evalue": "No module named 'plot_functions'",
     "output_type": "error",
     "traceback": [
      "\u001b[0;31m---------------------------------------------------------------------------\u001b[0m",
      "\u001b[0;31mModuleNotFoundError\u001b[0m                       Traceback (most recent call last)",
      "Cell \u001b[0;32mIn[5], line 7\u001b[0m\n\u001b[1;32m      4\u001b[0m sys\u001b[38;5;241m.\u001b[39mpath\u001b[38;5;241m.\u001b[39mappend(\u001b[38;5;124m\"\u001b[39m\u001b[38;5;124m/Math_of_Finance/scripts\u001b[39m\u001b[38;5;124m\"\u001b[39m)  \u001b[38;5;66;03m# Adjust the path as needed\u001b[39;00m\n\u001b[1;32m      6\u001b[0m \u001b[38;5;66;03m# Import the functions from your module\u001b[39;00m\n\u001b[0;32m----> 7\u001b[0m \u001b[38;5;28;01mfrom\u001b[39;00m \u001b[38;5;21;01mplot_functions\u001b[39;00m \u001b[38;5;28;01mimport\u001b[39;00m plot_gbm_path, plot_stock_path\n\u001b[1;32m      9\u001b[0m \u001b[38;5;66;03m# Plot a simulated GBM path\u001b[39;00m\n\u001b[1;32m     10\u001b[0m t, S \u001b[38;5;241m=\u001b[39m plot_gbm_path(S0\u001b[38;5;241m=\u001b[39m\u001b[38;5;241m100\u001b[39m, mu\u001b[38;5;241m=\u001b[39m\u001b[38;5;241m0.07\u001b[39m, sigma\u001b[38;5;241m=\u001b[39m\u001b[38;5;241m0.3\u001b[39m, T\u001b[38;5;241m=\u001b[39m\u001b[38;5;241m1\u001b[39m, N\u001b[38;5;241m=\u001b[39m\u001b[38;5;241m252\u001b[39m, seed\u001b[38;5;241m=\u001b[39m\u001b[38;5;241m42\u001b[39m)\n",
      "\u001b[0;31mModuleNotFoundError\u001b[0m: No module named 'plot_functions'"
     ]
    }
   ],
   "source": [
    "# Clone your repository if needed or ensure your scripts folder is in the Python path.\n",
    "# For example, if your repository is cloned in the current directory:\n",
    "import sys\n",
    "sys.path.append(\"/Math_of_Finance/scripts\")  # Adjust the path as needed\n",
    "\n",
    "# Import the functions from your module\n",
    "from Scripts.plot_functions import plot_gbm_path, plot_stock_path\n",
    "\n",
    "# Plot a simulated GBM path\n",
    "t, S = plot_gbm_path(S0=100, mu=0.07, sigma=0.3, T=1, N=252, seed=42)\n",
    "\n",
    "# Plot a real stock path (e.g., Apple Inc. from 2021-01-01 to 2022-01-01)\n",
    "data = plot_stock_path('AAPL', '2021-01-01', '2022-01-01')\n"
   ]
  }
 ],
 "metadata": {
  "kernelspec": {
   "display_name": "Python 3",
   "language": "python",
   "name": "python3"
  },
  "language_info": {
   "codemirror_mode": {
    "name": "ipython",
    "version": 3
   },
   "file_extension": ".py",
   "mimetype": "text/x-python",
   "name": "python",
   "nbconvert_exporter": "python",
   "pygments_lexer": "ipython3",
   "version": "3.11.4"
  }
 },
 "nbformat": 4,
 "nbformat_minor": 2
}
