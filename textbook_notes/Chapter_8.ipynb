{
 "cells": [
  {
   "cell_type": "markdown",
   "metadata": {},
   "source": [
    "### American vs. European Options\n",
    "\n",
    "#### European Options:\n",
    "- Exercisable only at expiration.\n",
    "- Call: $C = S_0 N(d_1) - X e^{-rT} N(d_2)$\n",
    "- Put: $P = X e^{-rT} N(-d_2) - S_0 N(-d_1)$\n",
    "- $d_1 = \\frac{\\ln(S_0 / X) + (r + \\sigma^2 / 2)T}{\\sigma \\sqrt{T}}$, $d_2 = d_1 - \\sigma \\sqrt{T}$.\n",
    "\n",
    "#### American Options:\n",
    "- Exercisable any time up to expiration.\n",
    "- Call and Put pricing lacks a general closed-form solution like Black-Scholes for European options.\n",
    "- American Call (no dividends): Price  aligns with European call due to no early exercise advantage.\n",
    "- American Put: Early exercise can be optimal; pricing requires numerical methods (e.g., binomial trees - Math134C).\n",
    "\n",
    "\n"
   ]
  },
  {
   "cell_type": "markdown",
   "metadata": {},
   "source": [
    "### Question 1\n",
    "\n",
    "Suppose the European $P_{40}(20)=10$ suddenly becomes an American option. Are there arbitrage opportunities? Explain by carrying out computations.\n"
   ]
  },
  {
   "cell_type": "markdown",
   "metadata": {},
   "source": [
    "#### Solution:\n",
    "For a put option with a strike price (K) of $40 and the underlying asset priced at $20, the intrinsic value is $K - S = $40 - $20 = $20. Since the European put option is priced at $10, which is below its intrinsic value, converting it to an American option (which can be exercised immediately for its intrinsic value) presents an arbitrage opportunity. One could buy the option for $10 and exercise it immediately for a payoff of $20, securing a risk-free profit of $10."
   ]
  },
  {
   "cell_type": "markdown",
   "metadata": {},
   "source": [
    "### Question 2\n",
    "\n",
    "Suppose the European $P_{40}(20)=30$ suddenly becomes an American option. Are there arbitrage opportunities? Give an explination.\n",
    "\n",
    "\n"
   ]
  },
  {
   "cell_type": "markdown",
   "metadata": {},
   "source": [
    "#### Solution:\n",
    "With the same strike price (K) of $40 and underlying asset priced at $20, the intrinsic value remains $20. The European put option's price at $30 is above the intrinsic value. While converting to an American option allows immediate exercise, doing so would yield $20, which is less than the purchase price of $30. Hence, there's no arbitrage opportunity in this scenario; it would not be rational to exercise the option immediately, as its market price exceeds the payoff from exercising."
   ]
  },
  {
   "cell_type": "markdown",
   "metadata": {},
   "source": [
    "### Question 3\n",
    "Sketch both the American call option $C_{50}(S, t)$ and the American put option $P_{50}(S, t)$ for $t < T$. Explain what is happening with each graph.\n"
   ]
  },
  {
   "cell_type": "code",
   "execution_count": null,
   "metadata": {},
   "outputs": [],
   "source": [
    "import numpy as np\n",
    "import matplotlib.pyplot as plt\n",
    "from scipy.stats import norm\n",
    "\n",
    "def black_scholes_put(S, K, T, r, sigma):\n",
    "    # European Put option price using Black-Scholes formula\n",
    "    d1 = (np.log(S / K) + (r + 0.5 * sigma**2) * T) / (sigma * np.sqrt(T))\n",
    "    d2 = d1 - sigma * np.sqrt(T)\n",
    "    return K * np.exp(-r * T) * norm.cdf(-d2) - S * norm.cdf(-d1)\n",
    "\n",
    "# Parameters (Fill in with appropriate values)\n",
    "S = np.linspace(0, 100, 500)  # Stock price range\n",
    "K = 50  # Strike price\n",
    "T = 1  # Time to maturity\n",
    "r = 0.05  # Risk-free interest rate\n",
    "sigma = 0.2  # Volatility\n",
    "\n",
    "# Calculate European Put prices\n",
    "european_put_prices = black_scholes_put(S, K, T, r, sigma)\n",
    "\n",
    "# Adjustment for American Put\n",
    "american_put_prices = np.maximum(european_put_prices, K - S)  # Max of European Put or intrinsic value (K - S)\n",
    "\n",
    "# Plotting\n",
    "plt.figure(figsize=(10, 6))\n",
    "plt.plot(S, european_put_prices, label='European Put', linestyle='--')\n",
    "plt.plot(S, american_put_prices, label='American Put')\n",
    "plt.plot(S, K - S, label='Intrinsic Value (K - S)', linestyle=':', color='red')\n",
    "\n",
    "# Highlighting the adjustment area\n",
    "plt.fill_between(S, european_put_prices, american_put_prices, color='grey', alpha=0.3, label='Adjustment Region')\n",
    "\n",
    "plt.title('European vs American Put Option')\n",
    "plt.xlabel('Stock Price (S)')\n",
    "plt.ylabel('Option Price')\n",
    "plt.legend()\n",
    "plt.grid(True)\n",
    "plt.show()\n"
   ]
  }
 ],
 "metadata": {
  "kernelspec": {
   "display_name": "bridge_test",
   "language": "python",
   "name": "python3"
  },
  "language_info": {
   "codemirror_mode": {
    "name": "ipython",
    "version": 3
   },
   "file_extension": ".py",
   "mimetype": "text/x-python",
   "name": "python",
   "nbconvert_exporter": "python",
   "pygments_lexer": "ipython3",
   "version": "3.11.4"
  }
 },
 "nbformat": 4,
 "nbformat_minor": 2
}