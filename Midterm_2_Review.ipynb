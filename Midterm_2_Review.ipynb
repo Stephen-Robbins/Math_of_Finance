{
 "cells": [
  {
   "cell_type": "code",
   "execution_count": null,
   "metadata": {},
   "outputs": [],
   "source": [
    "# Run this cell to download the course materials and functions.\n",
    "import os\n",
    "import sys\n",
    "\n",
    "# Clone the repository\n",
    "!git clone https://github.com/Stephen-Robbins/Math_of_Finance.git\n",
    "\n",
    "# Change directory to the repository's root\n",
    "%cd Math_of_Finance\n",
    "\n",
    "# --- Important: Add the 'scripts' directory to Python's search path ---\n",
    "# Get the absolute path to the 'scripts' folder. This is crucial for portability.\n",
    "scripts_path = os.path.join(os.getcwd(), \"scripts\")\n",
    "\n",
    "# Add the scripts directory to Python's path\n",
    "if scripts_path not in sys.path:  # Avoid adding it multiple times\n",
    "    sys.path.insert(0, scripts_path)"
   ]
  },
  {
   "cell_type": "code",
   "execution_count": 5,
   "metadata": {},
   "outputs": [
    {
     "name": "stdout",
     "output_type": "stream",
     "text": [
      "    Metric     Value\n",
      "     Price 10.450584\n",
      "     Delta  0.636831\n",
      "     Gamma  0.018762\n",
      "     Theta -6.414028\n",
      "      Vega 37.524035\n",
      "       Rho 53.232482\n",
      "Volatility  0.200000\n",
      "Lognormal stats:\n",
      "Cdf: 0.4404\n",
      "Pdf: 0.0197\n",
      "Mean: 105.1271\n",
      "Median: 103.0455\n",
      "Mode: 99.0050\n",
      "Variance: 451.0288\n"
     ]
    }
   ],
   "source": [
    "from finance import Option, gbm_lognormal_stats\n",
    "\n",
    "call_option = Option(S=100, E=100, T=1, r=0.05, sigma=0.2, option_type='call')\n",
    "print(call_option.summary())  \n",
    "\n",
    "\n",
    "print('Lognormal stats:')\n",
    "gbm_lognormal_stats(x=100, X_t=100, mu=0.05, sigma=0.2, T_minus_t=1)\n",
    "\n"
   ]
  },
  {
   "cell_type": "markdown",
   "metadata": {},
   "source": [
    "### Problem 1\n",
    "\n",
    "An option has a delta of $0.60$ and a gamma of $0.04$. If the underlying asset increases by $\\$2$, estimate the change in the option’s price using a second-order Taylor series approximation."
   ]
  },
  {
   "cell_type": "code",
   "execution_count": 6,
   "metadata": {},
   "outputs": [
    {
     "name": "stdout",
     "output_type": "stream",
     "text": [
      "1.28\n"
     ]
    }
   ],
   "source": [
    "print(0.6*2+1/2*0.04*2**2)"
   ]
  },
  {
   "cell_type": "markdown",
   "metadata": {},
   "source": [
    "### Problem 2\n",
    "\n",
    "\n",
    "\n",
    "**Background:**  \n",
    "Apple Inc. (AAPL) is currently trading at \\$150 per share. The risk-free interest rate is 2% per annum, and the options in this portfolio expire in 3 months (i.e., \\(T = 0.25\\) years). Assume the options follow the Black–Scholes model with no dividends.\n",
    "\n",
    "**Portfolio Positions:**\n",
    "\n",
    "1. **Position A: Long Calls**  \n",
    "   - **Quantity:** 100 options  \n",
    "   - **Option Type:** Call  \n",
    "   - **Strike Price:** \\$155  \n",
    "   - **Implied Volatility:** 30%\n",
    "\n",
    "2. **Position B: Short Puts**  \n",
    "   - **Quantity:** 50 options  \n",
    "   - **Option Type:** Put  \n",
    "   - **Strike Price:** \\$145  \n",
    "   - **Implied Volatility:** 30%\n",
    "\n",
    "3. **Position C: Long Calls**  \n",
    "   - **Quantity:** 75 options  \n",
    "   - **Option Type:** Call  \n",
    "   - **Strike Price:** \\$160  \n",
    "   - **Implied Volatility:** 35%\n",
    "\n",
    "---\n",
    "\n",
    "**Tasks:**\n",
    "\n",
    "1. **Find the greeks for the whole portfolio**  \n",
    "\n",
    "2. **Analyze the Portfolio Exposures**  \n",
    "   Answer the following:\n",
    "   - **a) Sensitivities:** Which Greek(s) indicate the portfolio's sensitivity to changes in the underlying stock price, time decay, volatility, or interest rates?\n",
    "   - **b) Dominant Risk Exposure:** Based on the aggregated Greeks, identify which risk factor (Delta, Gamma, Theta, Vega, or Rho) the portfolio is most exposed to.\n",
    "   - **c) Hedging Strategy:** Propose a hedging strategy to mitigate the dominant risk exposure. \n",
    "\n"
   ]
  },
  {
   "cell_type": "code",
   "execution_count": 7,
   "metadata": {},
   "outputs": [
    {
     "name": "stdout",
     "output_type": "stream",
     "text": [
      "911.7765765097093 94.0811160019139 2.0279949075285892 -2721.006662038746 3732.744484677958 3300.0977059443444\n"
     ]
    }
   ],
   "source": [
    "from finance import Option\n",
    "\n",
    "A = Option(S=150, E=155, T=0.25, r=0.02, sigma=0.3, option_type='call')\n",
    "B= Option(S=150, E=145, T=0.25, r=0.02, sigma=0.3, option_type='put')\n",
    "C= Option(S=150, E=160, T=0.25, r=0.02, sigma=0.35, option_type='call')\n",
    "\n",
    "port_price=100*A.price()-50*B.price()+75*C.price()\n",
    "port_delta=100*A.delta()-50*B.delta()+75*C.delta()\n",
    "port_gamma=100*A.gamma()-50*B.gamma()+75*C.gamma()\n",
    "port_theta=100*A.theta()-50*B.theta()+75*C.theta()\n",
    "port_vega=100*A.vega()-50*B.vega()+75*C.vega()\n",
    "port_rho=100*A.rho()-50*B.rho()+75*C.rho()\n",
    "\n",
    "print(port_price, port_delta, port_gamma, port_theta, port_vega, port_rho)"
   ]
  },
  {
   "cell_type": "markdown",
   "metadata": {},
   "source": [
    "### Question 3\n",
    "\n",
    "Suppose Apple Inc. (AAPL) stock is currently trading at \\$150. Assume the stock follows a geometric Brownian motion (GBM) with:\n",
    "- **Drift (μ):** 8% per year\n",
    "- **Volatility (σ):** 25% per year\n",
    "- **Time Horizon (T):** 1 year\n",
    "\n",
    "Using the GBM model, answer the following:\n",
    "\n",
    "1. **Probability Calculation:**  \n",
    "   Calculate the probability that AAPL's stock price will be between \\$140 and \\$170 one year from now.  \n",
    "\n",
    "2. **Sensitivity Analysis:**  \n",
    "   How  does this probability would change if the volatility increased to 30% while keeping the drift constant.\n"
   ]
  },
  {
   "cell_type": "code",
   "execution_count": 12,
   "metadata": {},
   "outputs": [
    {
     "name": "stdout",
     "output_type": "stream",
     "text": [
      "Stats for 140:\n",
      "Cdf: 0.3188\n",
      "Pdf: 0.0102\n",
      "Mean: 162.4931\n",
      "Median: 157.4937\n",
      "Mode: 147.9516\n",
      "Variance: 1702.9113\n",
      "Stats for 170:\n",
      "Cdf: 0.6201\n",
      "Pdf: 0.0090\n",
      "Mean: 162.4931\n",
      "Median: 157.4937\n",
      "Mode: 147.9516\n",
      "Variance: 1702.9113\n",
      "Answer\n",
      "0.3013\n"
     ]
    }
   ],
   "source": [
    "from finance import  gbm_lognormal_stats\n",
    "print('Stats for 140:')\n",
    "gbm_lognormal_stats(x=140, X_t=150, mu=0.08, sigma=0.25, T_minus_t=1)\n",
    "\n",
    "print('Stats for 170:')\n",
    "gbm_lognormal_stats(x=170, X_t=150, mu=0.08, sigma=0.25, T_minus_t=1)\n",
    "print('Answer')\n",
    "print(0.6201-0.3188)\n"
   ]
  },
  {
   "cell_type": "code",
   "execution_count": 14,
   "metadata": {},
   "outputs": [
    {
     "name": "stdout",
     "output_type": "stream",
     "text": [
      "Part b\n",
      "Stats for 140:\n",
      "Cdf: 0.3644\n",
      "Pdf: 0.0089\n",
      "Mean: 162.4931\n",
      "Median: 155.3430\n",
      "Mode: 141.9728\n",
      "Variance: 2486.5773\n",
      "Stats for 170:\n",
      "Cdf: 0.6181\n",
      "Pdf: 0.0075\n",
      "Mean: 162.4931\n",
      "Median: 155.3430\n",
      "Mode: 141.9728\n",
      "Variance: 2486.5773\n",
      "Answer\n",
      "0.2537\n"
     ]
    }
   ],
   "source": [
    "\n",
    "print('Part b')\n",
    "print('Stats for 140:')\n",
    "gbm_lognormal_stats(x=140, X_t=150, mu=0.08, sigma=0.30, T_minus_t=1)\n",
    "\n",
    "print('Stats for 170:')\n",
    "gbm_lognormal_stats(x=170, X_t=150, mu=0.08, sigma=0.30, T_minus_t=1)\n",
    "print('Answer')\n",
    "print(0.6181- 0.3644)"
   ]
  },
  {
   "cell_type": "markdown",
   "metadata": {},
   "source": [
    "### Problem 4 \n",
    "\n",
    "John buys an at the money put option for Apple stock. Apple Inc. (AAPL) stock is currently trading at \\$150. The stock follows a geometric Brownian motion (GBM) with:\n",
    "- **Drift (μ):** 5% per year\n",
    "- **Volatility (σ):** 25% per year\n",
    "- **Time Horizon (T):** 1 year\n",
    "\n",
    "and $r=0.05$. What is the probabiltiy that John makes a profit? (We assume all assumptions of black scholes.)\n",
    "\n"
   ]
  },
  {
   "cell_type": "code",
   "execution_count": 18,
   "metadata": {},
   "outputs": [
    {
     "name": "stdout",
     "output_type": "stream",
     "text": [
      "Cdf: 0.3501\n",
      "Pdf: 0.0107\n",
      "Mean: 157.6907\n",
      "Median: 152.8390\n",
      "Mode: 143.5790\n",
      "Variance: 1603.7415\n"
     ]
    }
   ],
   "source": [
    "from finance import Option, gbm_lognormal_stats\n",
    "\n",
    "\n",
    "A = Option(S=150, E=150, T=1, r=0.05, sigma=0.25, option_type='put')\n",
    "premium=A.price()\n",
    "\n",
    "x=150-premium\n",
    "\n",
    "gbm_lognormal_stats(x=x, X_t=150, mu=0.05, sigma=0.25, T_minus_t=1)"
   ]
  },
  {
   "cell_type": "markdown",
   "metadata": {},
   "source": [
    "### Problem 5\n",
    "\n",
    "Greg did not take Math 176/Econ 135. However his uncle works at J.P Morgan and Greg got a job there pricing american put options. Greg thinks american put options are priced the same way as european put options and thus uses the black scholes formula to price the american options. You observe $C_E(S, t)=\\$10$. The time to expiration $T-t$ is 1 year and the interest rate is $5\\%$. For wich values of $E$ does there exist an oppertunity for arbitrage?\n"
   ]
  },
  {
   "cell_type": "markdown",
   "metadata": {},
   "source": [
    "#### Solution\n",
    "\n",
    "If a american put is priced like a european put, arbitrage exists if $P_E(S, t)<E-S$, i.e. if the put price is less than the intrinsic value. Rearranging the put call parity, we see $$  P_E(S, t)-C_E(S, t)-E\\cdot(e^{-r(T-t)}-1) =  E - S .$$\n",
    "\n",
    "So arbitrage exists if $C_E(S, t)+E\\cdot(e^{-r(T-t)}-1)<0$.\n",
    "\n",
    "Plugging in our numbers, arbitrage exists if $E>\\$ 205.04$.\n"
   ]
  }
 ],
 "metadata": {
  "kernelspec": {
   "display_name": "Python 3",
   "language": "python",
   "name": "python3"
  },
  "language_info": {
   "codemirror_mode": {
    "name": "ipython",
    "version": 3
   },
   "file_extension": ".py",
   "mimetype": "text/x-python",
   "name": "python",
   "nbconvert_exporter": "python",
   "pygments_lexer": "ipython3",
   "version": "3.11.4"
  }
 },
 "nbformat": 4,
 "nbformat_minor": 2
}
