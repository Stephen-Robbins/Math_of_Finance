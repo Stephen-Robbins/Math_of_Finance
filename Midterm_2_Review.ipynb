{
 "cells": [
  {
   "cell_type": "code",
   "execution_count": 1,
   "metadata": {},
   "outputs": [],
   "source": [
    "# Run this cell to download the course materials and functions.\n",
    "import os\n",
    "import sys\n",
    "\n",
    "# Clone the repository\n",
    "#!git clone https://github.com/Stephen-Robbins/Math_of_Finance.git\n",
    "\n",
    "# Change directory to the repository's root\n",
    "#%cd Math_of_Finance\n",
    "\n",
    "# --- Important: Add the 'scripts' directory to Python's search path ---\n",
    "# Get the absolute path to the 'scripts' folder. This is crucial for portability.\n",
    "scripts_path = os.path.join(os.getcwd(), \"scripts\")\n",
    "\n",
    "# Add the scripts directory to Python's path\n",
    "if scripts_path not in sys.path:  # Avoid adding it multiple times\n",
    "    sys.path.insert(0, scripts_path)"
   ]
  },
  {
   "cell_type": "code",
   "execution_count": null,
   "metadata": {},
   "outputs": [],
   "source": [
    "from finance import Option\n",
    "\n",
    "call_option = Option(S=100, E=100, T=1, r=0.05, sigma=0.2, option_type='call')\n",
    "print(call_option.summary())  \n",
    "\n",
    "\n",
    "\n"
   ]
  },
  {
   "cell_type": "markdown",
   "metadata": {},
   "source": [
    "### Problem 1\n",
    "\n",
    "An option has a delta of $0.60$ and a gamma of $0.04$. If the underlying asset increases by $\\$2$, estimate the change in the option’s price using a second-order Taylor series approximation."
   ]
  },
  {
   "cell_type": "markdown",
   "metadata": {},
   "source": [
    "### Problem 2\n",
    "\n",
    "\n",
    "\n",
    "**Background:**  \n",
    "Apple Inc. (AAPL) is currently trading at \\$150 per share. The risk-free interest rate is 2% per annum, and the options in this portfolio expire in 3 months (i.e., \\(T = 0.25\\) years). Assume the options follow the Black–Scholes model with no dividends.\n",
    "\n",
    "**Portfolio Positions:**\n",
    "\n",
    "1. **Position A: Long Calls**  \n",
    "   - **Quantity:** 100 options  \n",
    "   - **Option Type:** Call  \n",
    "   - **Strike Price:** \\$155  \n",
    "   - **Implied Volatility:** 30%\n",
    "\n",
    "2. **Position B: Short Puts**  \n",
    "   - **Quantity:** 50 options  \n",
    "   - **Option Type:** Put  \n",
    "   - **Strike Price:** \\$145  \n",
    "   - **Implied Volatility:** 30%\n",
    "\n",
    "3. **Position C: Long Calls**  \n",
    "   - **Quantity:** 75 options  \n",
    "   - **Option Type:** Call  \n",
    "   - **Strike Price:** \\$160  \n",
    "   - **Implied Volatility:** 35%\n",
    "\n",
    "---\n",
    "\n",
    "**Tasks:**\n",
    "\n",
    "1. **Find the greeks for the whole portfolio**  \n",
    "\n",
    "2. **Analyze the Portfolio Exposures**  \n",
    "   Answer the following:\n",
    "   - **a) Sensitivities:** Which Greek(s) indicate the portfolio's sensitivity to changes in the underlying stock price, time decay, volatility, or interest rates?\n",
    "   - **b) Dominant Risk Exposure:** Based on the aggregated Greeks, identify which risk factor (Delta, Gamma, Theta, Vega, or Rho) the portfolio is most exposed to.\n",
    "   - **c) Hedging Strategy:** Propose a hedging strategy to mitigate the dominant risk exposure. \n",
    "\n"
   ]
  },
  {
   "cell_type": "markdown",
   "metadata": {},
   "source": [
    "### Question 3\n",
    "\n",
    "Suppose Apple Inc. (AAPL) stock is currently trading at \\$150. Assume the stock follows a geometric Brownian motion (GBM) with:\n",
    "- **Drift (μ):** 8% per year\n",
    "- **Volatility (σ):** 25% per year\n",
    "- **Time Horizon (T):** 1 year\n",
    "\n",
    "Using the GBM model, answer the following:\n",
    "\n",
    "1. **Probability Calculation:**  \n",
    "   Calculate the probability that AAPL's stock price will be between \\$140 and \\$170 one year from now.  \n",
    "\n",
    "2. **Sensitivity Analysis:**  \n",
    "   How  does this probability would change if the volatility increased to 30% while keeping the drift constant.\n"
   ]
  },
  {
   "cell_type": "markdown",
   "metadata": {},
   "source": [
    "### Problem 4 \n",
    "\n",
    "John buys an put option for apple stock"
   ]
  },
  {
   "cell_type": "markdown",
   "metadata": {},
   "source": [
    "### Problem 5\n",
    "\n",
    "Greg did not take Math 176/Econ 135. However his uncle works at J.P Morgan and Greg got a job there pricing american put options. Greg thinks american put options are priced the same way as european put options and thus uses the black scholes formula to price the american options. You observe $C_E(S, t)=\\$10$. The time to expiration $T-t$ is 1 year and the interest rate is $5\\%$. For wich values of $E$ does there exist an oppertunity for arbitrage?\n"
   ]
  },
  {
   "cell_type": "code",
   "execution_count": null,
   "metadata": {},
   "outputs": [],
   "source": []
  }
 ],
 "metadata": {
  "kernelspec": {
   "display_name": "Python 3",
   "language": "python",
   "name": "python3"
  },
  "language_info": {
   "codemirror_mode": {
    "name": "ipython",
    "version": 3
   },
   "file_extension": ".py",
   "mimetype": "text/x-python",
   "name": "python",
   "nbconvert_exporter": "python",
   "pygments_lexer": "ipython3",
   "version": "3.11.4"
  }
 },
 "nbformat": 4,
 "nbformat_minor": 2
}
