{
 "cells": [
  {
   "cell_type": "markdown",
   "metadata": {},
   "source": [
    "## Sports Betting\n",
    "\n",
    "### Fractional Odds\n",
    "\n",
    "- **Definition**: Ratio of potential profit to stake\n",
    "- **Format**: O_A:1\n",
    "- **Interpretation**: Win profit of O_A units for every 1 unit staked\n",
    "- **Example**: If O_A = 3 and you bet 1 unit, potential profit is 3 units, total return is 4 units\n",
    "- **Implied Probability**: $P(A) = \\frac{1}{O_A+1}$\n",
    "\n",
    "## Arbitrage in Sports Betting\n",
    "\n",
    "Arbitrage occurs when betting on all outcomes guarantees profit\n",
    "\n",
    "### Scenario\n",
    "\n",
    "- Bet $x$ on A with odds O_A:1\n",
    "- Bet $n-x$ on B with odds O_B:1\n",
    "\n",
    "### Profit Equations\n",
    "\n",
    "- A wins: $-(n-x) + O_A \\times x$\n",
    "- B wins: $O_B \\times (n-x) - x$\n",
    "\n",
    "### Arbitrage Conditions\n",
    "\n",
    "Set profits equal for fixed profit $p^*$:\n",
    "\n",
    "$-(n-x) + O_A \\times x = O_B \\times (n-x) - x$\n",
    "\n",
    "Solve for optimal bet $x^*$ and fixed profit $p^*$:\n",
    "\n",
    "- $x^* = \\frac{n(1+O_B)}{2+O_A+O_B}$\n",
    "- $p^* = \\frac{n(O_A \\times O_B - 1)}{2+O_A+O_B}$\n",
    "\n",
    "### Positive Profit Condition \n",
    "\n",
    "$p^* > 0$ when $O_A \\times O_B > 1$\n"
   ]
  },
  {
   "cell_type": "markdown",
   "metadata": {},
   "source": [
    "### Question 1\n",
    "\n",
    "You are considering placing bets on the upcoming Super Bowl between the Kansas City Cheifs and the San Francisco 49ers. Two different bookmakers are offering fair bets that imply the following probabilities:\n",
    "\n",
    "- Bookmaker A: Chiefs win with an implied probability of 65%\n",
    "- Bookmaker B: 49ers win with an implied probability of 45%\n",
    "\n",
    "You have a total betting budget of $1000.\n",
    "\n",
    "Assuming you can split your bets between the two bookmakers, what is the minimum and maximum amount you need to bet on the Chiefs winning to guarantee a risk-free profit regardless of the game's outcome? What is the maximum gauranteed riskfree profit you can achieve?\n"
   ]
  },
  {
   "cell_type": "code",
   "execution_count": 14,
   "metadata": {},
   "outputs": [
    {
     "name": "stdout",
     "output_type": "stream",
     "text": [
      "1.8571428571428574\n",
      "Minimum bet on Chiefs: $132.00\n",
      "Maximum bet on Chiefs: $156.00\n",
      "Optimal bet on 49ers with Bookmaker A: $93.33\n",
      "Optimal bet on Chiefs with Bookmaker B: $146.67\n",
      "Maximum guaranteed profit: $26.67\n"
     ]
    }
   ],
   "source": [
    "## Code Solution\n",
    "n = 240\n",
    "p_A_chiefs = .65\n",
    "p_B_49ers = .45\n",
    "\n",
    "#Calculate the odds for each bookmaker\n",
    "o_A_49ers = p_A_chiefs/(1-p_A_chiefs)\n",
    "print(o_A_49ers)\n",
    "o_B_chiefs = p_B_49ers/(1-p_B_49ers)\n",
    "\n",
    "\n",
    "#Calculate the minimum and maximum bets for each bookmaker\n",
    "x_min = n / (1+o_B_chiefs)\n",
    "x_max = n*o_A_49ers / (1+o_A_49ers)\n",
    "\n",
    "#calculate the optimal bet and the maximum guaranteed profit\n",
    "x_star = n*(1+o_A_49ers) / (2+o_B_chiefs+o_A_49ers)\n",
    "p_star = n*(o_B_chiefs*o_A_49ers-1) / (2+o_B_chiefs+o_A_49ers)\n",
    "\n",
    "print(f\"Minimum bet on Chiefs: ${x_min:.2f}\")\n",
    "print(f\"Maximum bet on Chiefs: ${x_max:.2f}\")\n",
    "print(f\"Optimal bet on 49ers with Bookmaker A: ${n-x_star:.2f}\")\n",
    "print(f\"Optimal bet on Chiefs with Bookmaker B: ${x_star:.2f}\")\n",
    "print(f\"Maximum guaranteed profit: ${p_star:.2f}\")"
   ]
  },
  {
   "cell_type": "markdown",
   "metadata": {},
   "source": [
    "# Probability Review: Discrete and Continuous Variables\n",
    "\n",
    "## Overview\n",
    "- **Discrete Random Variables**: Finite/countably infinite values\n",
    "- **Continuous Random Variables**: Continuous range of values\n",
    "\n",
    "## Probability Functions\n",
    "- **Probability Mass Function (PMF)**: For discrete RV $X$, $P(X=x)$\n",
    "- **Cumulative Distribution Function (CDF)**: For RV $X$, $F(x) = P(X \\leq x)$\n",
    "- **Probability Density Function (PDF)**: For continuous RV $X$, $f(x) = F'(x)$\n",
    "\n",
    "## Expected Value (Mean)\n",
    "- **Discrete RV** $X$: $E(X) = \\sum_{i} x_i P(x_i)$\n",
    "- **Continuous RV** $X$: $E(X) = \\int_{-\\infty}^{\\infty} x f(x) \\, dx$\n",
    "\n",
    "## Variance\n",
    "- For RV $X$: $Var(X) = E[(X - E(X))^2] = E(X^2) - [E(X)]^2$\n",
    "\n",
    "## Properties\n",
    "- $P(a \\leq X \\leq b) = F(b) - F(a)$ for continuous RV $X$\n",
    "- $P(a \\leq X \\leq b) = \\int_{a}^{b} f(x) \\, dx$ for continuous RV $X$\n",
    "- $\\int_{-\\infty}^{\\infty} f(x) \\, dx = 1$ for valid PDF $f(x)$"
   ]
  },
  {
   "cell_type": "markdown",
   "metadata": {},
   "source": [
    "### Question 2\n",
    "\n",
    "Consider a continuous random variable $X$ with the following probability density function (PDF):\n",
    "\n",
    "$$\n",
    "f(x) = \\begin{cases}\n",
    "cx(1-x), & 0 \\leq x \\leq 1 \\\\\n",
    "0, & \\text{otherwise}\n",
    "\\end{cases}\n",
    "$$\n",
    "\n",
    "a) Find the value of the constant $c$ that makes $f(x)$ a valid PDF.\n",
    "\n",
    "b) Using the value of $c$ found in part (a), calculate the expected value of $X$, $E(X)$.\n",
    "\n",
    "c) Calculate the variance of $X$, $Var(X)$, using the formula:\n",
    "\n"
   ]
  },
  {
   "cell_type": "markdown",
   "metadata": {},
   "source": [
    "### Solution\n",
    "\n",
    "\n",
    "a) For $f(x)$ to be a valid PDF, $\\int_{-\\infty}^{\\infty} f(x) \\, dx = 1$.\n",
    "\n",
    "$$\n",
    "\\int_{0}^{1} cx(1-x) \\, dx = c \\left[\\frac{x^2}{2} - \\frac{x^3}{3}\\right]_{0}^{1} = c \\left(\\frac{1}{2} - \\frac{1}{3}\\right) = \\frac{c}{6} = 1\n",
    "$$\n",
    "\n",
    "Therefore, $c = 6$.\n",
    "\n",
    "b) $E(X) = \\int_{0}^{1} x \\cdot 6x(1-x) \\, dx = 6 \\int_{0}^{1} (x^2 - x^3) \\, dx = 6 \\left[\\frac{x^3}{3} - \\frac{x^4}{4}\\right]_{0}^{1} = \\frac{1}{2}$\n",
    "\n",
    "c) $E(X^2) = \\int_{0}^{1} x^2 \\cdot 6x(1-x) \\, dx = 6 \\int_{0}^{1} (x^3 - x^4) \\, dx = 6 \\left[\\frac{x^4}{4} - \\frac{x^5}{5}\\right]_{0}^{1} = \\frac{3}{10}$\n",
    "\n",
    "$Var(X) = E(X^2) - [E(X)]^2 = \\frac{3}{10} - \\left(\\frac{1}{2}\\right)^2 = \\frac{1}{20}$"
   ]
  },
  {
   "cell_type": "markdown",
   "metadata": {},
   "source": [
    "## Normal Distribution\n",
    "- Defined by parameters: mean ($\\mu$), standard deviation ($\\sigma$)\n",
    "- PDF: $f(x|\\mu,\\sigma^2) = \\frac{1}{\\sqrt{2\\pi\\sigma^2}} \\exp\\left(-\\frac{(x-\\mu)^2}{2\\sigma^2}\\right)$\n",
    "- Symmetric around mean\n",
    "\n",
    "- Standard Normal: $Z \\sim N(0,1)$, $Z = \\frac{X-\\mu}{\\sigma}$\n",
    "\n",
    "## Central Limit Theorem (CLT)\n",
    "- Let $X_1, X_2, \\ldots, X_n$ be i.i.d. random variables with $E(X_i) = \\mu$ and $\\text{Var}(X_i) = \\sigma^2 < \\infty$\n",
    "- Define $\\bar{X}_n = \\frac{1}{n}\\sum_{i=1}^n X_i$ and $Z_n = \\frac{\\bar{X}_n - \\mu}{\\sigma/\\sqrt{n}}$\n",
    "- Then, as $n \\to \\infty$, $Z_n \\xrightarrow{d} N(0,1)$\n"
   ]
  },
  {
   "cell_type": "markdown",
   "metadata": {},
   "source": [
    "### Question 3\n",
    "\n",
    "A factory produces widgets that are packaged into boxes. The weights of the widgets are independent and identically distributed random variables with a mean of 50 grams and a standard deviation of 5 grams. Each box contains 100 widgets.\n",
    "\n",
    " The factory ships an order of 500 boxes. Using the Central Limit Theorem, estimate the probability that the total weight of the widgets in the 500 boxes is greater than 2,501 kilograms.\n",
    "\n"
   ]
  },
  {
   "cell_type": "markdown",
   "metadata": {},
   "source": [
    "### Solution\n",
    "\n",
    "\n",
    "Step 1: Determine the total number of widgets.\n",
    "- Total number of widgets: $n = 100 \\text{ widgets/box} \\times 500 \\text{ boxes} = 50,000 \\text{ widgets}$\n",
    "\n",
    "Step 2: Apply the Central Limit Theorem to the total weight of the widgets.\n",
    "- The total weight of the widgets is the sum of a large number of independent and identically distributed random variables.\n",
    "- By the Central Limit Theorem, the distribution of the total weight is approximately normal with:\n",
    "  - Mean: $\\mu_{\\text{total}} = n \\times \\mu = 50,000 \\times 50 = 2,500,000 \\text{ grams} = 2,500 \\text{ kilograms}$\n",
    "  - Standard deviation: $\\sigma_{\\text{total}} = \\sqrt{n} \\times \\sigma = \\sqrt{50,000} \\times 5 $\n",
    "\n",
    "Step 3: Calculate the z-score for the target weight.\n",
    "- Target weight: $x = 2,501 \\text{ kilograms} = 2,501,000 \\text{ grams}$\n",
    "- Z-score: $z = \\frac{x - \\mu_{\\text{total}}}{\\sigma_{\\text{total}}}$\n",
    "\n",
    "Step 4: Calculate the probability using the standard normal distribution.\n",
    "- Probability: $P(\\text{Total weight} > 2,501 \\text{ kg}) = 1 - P(Z \\leq z)$\n"
   ]
  },
  {
   "cell_type": "code",
   "execution_count": 46,
   "metadata": {},
   "outputs": [
    {
     "name": "stdout",
     "output_type": "stream",
     "text": [
      "The probability that the total weight is greater than 2,501 kg is: 0.1855\n"
     ]
    }
   ],
   "source": [
    "from scipy.stats import norm\n",
    "\n",
    "mu = 50\n",
    "n = 100 * 500\n",
    "sigma = 5\n",
    "x = 2501 * 1000\n",
    "\n",
    "z_score = (x - n * mu) / (sigma * (n ** 0.5))\n",
    "probability = 1 - norm.cdf(z_score)\n",
    "\n",
    "print(f\"The probability that the total weight is greater than 2,501 kg is: {probability:.4f}\")"
   ]
  },
  {
   "cell_type": "markdown",
   "metadata": {},
   "source": [
    "### Taylor Series\n",
    "\n",
    "The Taylor Series is a powerful tool in mathematics that allows us to represent a function as an infinite sum of terms calculated from the function's derivatives at a single point. This series is named after the mathematician Brook Taylor, who introduced it in 1715.\n",
    "\n",
    "#### Taylor Series for Functions of One Variable\n",
    "\n",
    "##### Definition\n",
    "Let $f(x)$ be a function that is infinitely differentiable at a point $a$. The Taylor Series of $f$ at $a$ is defined as:\n",
    "\n",
    "$$\n",
    "f(x) = \\sum_{n=0}^{\\infty} \\frac{f^{(n)}(a)}{n!}(x - a)^n\n",
    "$$\n",
    "\n",
    "where:\n",
    "- $f^{(n)}(a)$ is the $n$-th derivative of $f$ evaluated at the point $a$,\n",
    "- $n!$ is the factorial of $n$,\n",
    "- $(x - a)^n$ is the $n$-th power of $(x - a)$.\n",
    "\n",
    "#### Taylor Series for Functions of Two Variables\n",
    "\n",
    "Let $f(x, y)$ be a function of two variables that is infinitely differentiable at a point $(a, b)$. The third-order Taylor Series expansion of $f$ around $(a, b)$ is:\n",
    "\n",
    "\n",
    "\\begin{align*}\n",
    "f(x, y) &\\approx f(a, b) + \\frac{\\partial f}{\\partial x}(a,b)(x - a) + \\frac{\\partial f}{\\partial y}(a,b)(y - b)\\\\\n",
    "&+\\frac{1}{2!}\\left( \\frac{\\partial^2 f}{\\partial x^2}(a,b)(x - a)^2 + 2\\frac{\\partial^2 f}{\\partial x \\partial y}(a,b)(x - a)(y - b) + \\frac{\\partial^2 f}{\\partial y^2}(a,b)(y - b)^2 \\right)\\\\\n",
    "&+ \\frac{1}{3!}\\left( \\frac{\\partial^3 f}{\\partial x^3}(a,b)(x - a)^3 + 3\\frac{\\partial^3 f}{\\partial x^2 \\partial y}(a,b)(x - a)^2(y - b) + 3\\frac{\\partial^3 f}{\\partial x \\partial y^2}(a,b)(x - a)(y - b)^2 + \\frac{\\partial^3 f}{\\partial y^3}(a,b)(y - b)^3 \\right)\n",
    "\\end{align*}\n",
    "\n",
    "\n",
    "\n",
    "This expansion includes terms up to the third-order partial derivatives of $f$.\n",
    "\n",
    "\n"
   ]
  },
  {
   "cell_type": "markdown",
   "metadata": {},
   "source": [
    "### Question 4\n",
    "\n",
    "Consider the function $f(x, y) = \\ln(2x + 3y + 1)$. Find the second-order Taylor Series approximation of $f(x, y)$ around the point $(1, 1)$."
   ]
  },
  {
   "cell_type": "markdown",
   "metadata": {},
   "source": [
    "#### Solution\n",
    "\n",
    "Given:\n",
    "- $f(x, y) = \\ln(2x + 3y + 1)$\n",
    "- The point of expansion is $(a, b) = (1, 1)$\n",
    "\n",
    "Step 1: Calculate the necessary partial derivatives of $f(x, y)$ at $(1, 1)$.\n",
    "\n",
    "- $f(1, 1) = \\ln(2\\cdot 1 + 3\\cdot 1 + 1) = \\ln(6)$\n",
    "- $\\frac{\\partial f}{\\partial x}(x, y) = \\frac{2}{2x + 3y + 1}$, so $\\frac{\\partial f}{\\partial x}(1, 1) = \\frac{2}{6} = \\frac{1}{3}$\n",
    "- $\\frac{\\partial f}{\\partial y}(x, y) = \\frac{3}{2x + 3y + 1}$, so $\\frac{\\partial f}{\\partial y}(1, 1) = \\frac{3}{6} = \\frac{1}{2}$\n",
    "- $\\frac{\\partial^2 f}{\\partial x^2}(x, y) = -\\frac{2^2}{(2x + 3y + 1)^2}$, so $\\frac{\\partial^2 f}{\\partial x^2}(1, 1) = -\\frac{4}{6^2} = -\\frac{1}{9}$\n",
    "- $\\frac{\\partial^2 f}{\\partial y^2}(x, y) = -\\frac{3^2}{(2x + 3y + 1)^2}$, so $\\frac{\\partial^2 f}{\\partial y^2}(1, 1) = -\\frac{9}{6^2} = -\\frac{1}{4}$\n",
    "- $\\frac{\\partial^2 f}{\\partial x \\partial y}(x, y) = -\\frac{2 \\cdot 3}{(2x + 3y + 1)^2}$, so $\\frac{\\partial^2 f}{\\partial x \\partial y}(1, 1) = -\\frac{6}{6^2} = -\\frac{1}{6}$\n",
    "\n",
    "Step 2: Substitute the partial derivatives into the second-order Taylor Series expansion formula.\n",
    "\n",
    "$$\n",
    "f(x, y) \\approx \\ln(6) + \\frac{1}{3}(x - 1) + \\frac{1}{2}(y - 1)\n",
    "$$\n",
    "$$\n",
    "+\\frac{1}{2!}\\left( -\\frac{1}{9}(x - 1)^2 - 2\\cdot \\frac{1}{6}(x - 1)(y - 1) - \\frac{1}{4}(y - 1)^2 \\right)\n",
    "$$\n",
    "\n",
    "Step 3: Simplify the expression.\n",
    "\n",
    "$$\n",
    "f(x, y) \\approx \\ln(6) + \\frac{1}{3}(x - 1) + \\frac{1}{2}(y - 1) - \\frac{1}{18}(x - 1)^2 - \\frac{1}{6}(x - 1)(y - 1) - \\frac{1}{8}(y - 1)^2.\n",
    "$$\n",
    "\n"
   ]
  },
  {
   "cell_type": "markdown",
   "metadata": {},
   "source": [
    "### Transformation of Variables\n",
    "\n",
    "In probability theory, the transformation of variables is a technique used to find the probability density function (PDF) of a new random variable that is a function of an existing random variable with a known PDF.\n",
    "\n",
    "#### Monotonic Functions\n",
    "\n",
    "If $X$ is a continuous random variable with PDF $p_X(x)$ and $Y = g(X)$ is a new random variable, where $g$ is a monotonic function (either strictly increasing or strictly decreasing), then the PDF of $Y$ is given by:\n",
    "\n",
    "$$\n",
    "p_Y(y) = p_X(g^{-1}(y)) \\left| \\frac{d}{dy} (g^{-1}(y)) \\right|\n",
    "$$\n",
    "\n",
    "where $g^{-1}$ is the inverse function of $g$.\n",
    "\n",
    "#### Non-Invertible Functions\n",
    "\n",
    "If the function $g$ is not invertible (i.e., it is not monotonic), we can still find the PDF of $Y$ using the following formula:\n",
    "\n",
    "$$\n",
    "p_Y(y) = \\sum_{i} \\frac{p_X(x_i)}{\\left| g'(x_i) \\right|}\n",
    "$$\n",
    "\n",
    "where $x_i$ are the roots of the equation $y = g(x)$, and $g'(x_i)$ is the derivative of $g$ evaluated at $x_i$.\n",
    "\n"
   ]
  },
  {
   "cell_type": "markdown",
   "metadata": {},
   "source": [
    "#### Question 5\n",
    "\n",
    "Let $X$ be a continuous random variable with probability density function (PDF) given by:\n",
    "\n",
    "$$\n",
    "p_X(x) = \\begin{cases}\n",
    "2x, & 0 \\leq x \\leq 1 \\\\\n",
    "0, & \\text{otherwise}\n",
    "\\end{cases}\n",
    "$$\n",
    "\n",
    "\n",
    "If $Y = 3X + 1$, find the PDF of $Y$."
   ]
  },
  {
   "cell_type": "markdown",
   "metadata": {},
   "source": [
    "#### Solution to Question 5\n",
    "\n",
    "To find the PDF of $Y$, we first find the inverse function of $g$:\n",
    "\n",
    "$y = 3x + 1 \\implies x = g^{-1}(y) = \\frac{y - 1}{3}$\n",
    "\n",
    "Since $g$ is monotonic (strictly increasing) on the domain of $X$, we can use the formula for monotonic functions:\n",
    "\n",
    "$p_Y(y) = p_X(g^{-1}(y)) \\left| \\frac{d}{dy} (g^{-1}(y)) \\right|$\n",
    "\n",
    "$p_Y(y) = 2 \\cdot \\frac{y - 1}{3} \\cdot \\left| \\frac{1}{3} \\right| = \\frac{2(y - 1)}{9}$, for $1 \\leq y \\leq 4$\n",
    "\n",
    "Therefore, the PDF of $Y$ is:\n",
    "\n",
    "$$\n",
    "p_Y(y) = \\begin{cases}\n",
    "\\frac{2(y - 1)}{9}, & 1 \\leq y \\leq 4 \\\\\n",
    "0, & \\text{otherwise}\n",
    "\\end{cases}\n",
    "$$"
   ]
  },
  {
   "cell_type": "markdown",
   "metadata": {},
   "source": [
    "### Question 6\n",
    "\n",
    "Let $X$ be a continuous random variable with PDF given by:\n",
    "\n",
    "$$\n",
    "p_X(x) = \\begin{cases}\n",
    "\\frac{1}{2}, & -1 \\leq x \\leq 1 \\\\\n",
    "0, & \\text{otherwise}\n",
    "\\end{cases}\n",
    "$$\n",
    "\n",
    "If $Y = X^2$, find the PDF of $Y$."
   ]
  },
  {
   "cell_type": "markdown",
   "metadata": {},
   "source": [
    "### Solution to Question 6\n",
    "\n",
    "Given:\n",
    "- $X$ has PDF $p_X(x) = \\frac{1}{2}$ for $-1 \\leq x \\leq 1$, and 0 otherwise.\n",
    "- $Y = g(X) = X^2$\n",
    "\n",
    "In this case, $g$ is not monotonic on the domain of $X$. We need to find the roots of the equation $y = x^2$ and use the formula for non-monotonic functions.\n",
    "\n",
    "The roots are $x_1 = -\\sqrt{y}$ and $x_2 = \\sqrt{y}$, for $0 \\leq y \\leq 1$.\n",
    "\n",
    "$p_Y(y) = \\sum_{i=1}^{2} \\frac{p_X(x_i)}{\\left| g'(x_i) \\right|} = \\frac{p_X(-\\sqrt{y})}{2\\sqrt{y}} + \\frac{p_X(\\sqrt{y})}{2\\sqrt{y}} = \\frac{1}{2} \\cdot \\frac{1}{2\\sqrt{y}} + \\frac{1}{2} \\cdot \\frac{1}{2\\sqrt{y}} = \\frac{1}{2\\sqrt{y}}$, for $0 < y \\leq 1$\n",
    "\n",
    "Therefore, the PDF of $Y$ is:\n",
    "\n",
    "$$\n",
    "p_Y(y) = \\begin{cases}\n",
    "\\frac{1}{2\\sqrt{y}}, & 0 < y \\leq 1 \\\\\n",
    "0, & \\text{otherwise}\n",
    "\\end{cases}\n",
    "$$\n"
   ]
  },
  {
   "cell_type": "markdown",
   "metadata": {},
   "source": []
  }
 ],
 "metadata": {
  "kernelspec": {
   "display_name": "bridge_test",
   "language": "python",
   "name": "python3"
  },
  "language_info": {
   "codemirror_mode": {
    "name": "ipython",
    "version": 3
   },
   "file_extension": ".py",
   "mimetype": "text/x-python",
   "name": "python",
   "nbconvert_exporter": "python",
   "pygments_lexer": "ipython3",
   "version": "3.11.4"
  }
 },
 "nbformat": 4,
 "nbformat_minor": 2
}
