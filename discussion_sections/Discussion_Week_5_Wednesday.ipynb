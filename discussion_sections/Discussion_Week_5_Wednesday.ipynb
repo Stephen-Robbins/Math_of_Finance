{
 "cells": [
  {
   "cell_type": "code",
   "execution_count": null,
   "metadata": {},
   "outputs": [],
   "source": [
    "# Run this cell to download the course materials and functions.\n",
    "import os\n",
    "import sys\n",
    "\n",
    "# Clone the repository\n",
    "!git clone https://github.com/Stephen-Robbins/Math_of_Finance.git\n",
    "\n",
    "# Change directory to the repository's root\n",
    "%cd Math_of_Finance\n",
    "\n",
    "# --- Important: Add the 'scripts' directory to Python's search path ---\n",
    "# Get the absolute path to the 'scripts' folder. This is crucial for portability.\n",
    "scripts_path = os.path.join(os.getcwd(), \"scripts\")\n",
    "\n",
    "# Add the scripts directory to Python's path\n",
    "if scripts_path not in sys.path:  # Avoid adding it multiple times\n",
    "    sys.path.insert(0, scripts_path)"
   ]
  },
  {
   "cell_type": "markdown",
   "metadata": {},
   "source": [
    "# Geometric Brownian Motion (GBM)\n",
    "\n",
    "We model the stock price $S_t$ as a stochastic process satisfying the following stochastic differential equation (SDE):\n",
    "\n",
    "$$\n",
    "dS_t = \\mu S_t \\, dt + \\sigma S_t \\, dW_t,\n",
    "$$\n",
    "\n",
    "where:\n",
    "\n",
    "- $\\mu$ is the drift coefficient, representing the expected rate of return.\n",
    "- $\\sigma$ is the volatility coefficient, measuring the standard deviation of the stock’s returns.\n",
    "- $dW_t$ is the increment of a standard Brownian motion (or Wiener process).\n",
    "\n",
    "Under this model, the logarithm of the stock price is normally distributed, ensuring that \\(S_t > 0\\) for all \\(t\\). This SDE underpins many financial models, including the Black-Scholes option pricing formula.\n",
    "\n",
    "In the plots below, we compare a simulated GBM path with real historical stock price data.\n"
   ]
  },
  {
   "cell_type": "code",
   "execution_count": null,
   "metadata": {},
   "outputs": [],
   "source": [
    "from plot import plot_gbm_path\n",
    "\n",
    "# Plot a simulated GBM path\n",
    "t, S_paths = plot_gbm_path(S0=100, mu=0.07, sigma=0.3, T=1, N=252,  n_paths=1)\n"
   ]
  },
  {
   "cell_type": "code",
   "execution_count": null,
   "metadata": {},
   "outputs": [],
   "source": [
    "from plot import plot_stock_path\n",
    "# Plot a real stock path (e.g., Apple Inc. from 2021-01-01 to 2022-01-01)\n",
    "data = plot_stock_path('AAPL', '2021-01-01', '2022-01-01')"
   ]
  },
  {
   "cell_type": "code",
   "execution_count": null,
   "metadata": {},
   "outputs": [],
   "source": [
    "from plot import plot_log_returns_bell_curve\n",
    "\n",
    "# Use the function to plot log returns and the fitted normal distribution for a given ticker and date range.\n",
    "plot_log_returns_bell_curve('V', '2021-01-01', '2024-01-01', bins=100)"
   ]
  },
  {
   "cell_type": "markdown",
   "metadata": {},
   "source": [
    "# Log-Normal Distribution of Stock Prices Under Geometric Brownian Motion\n",
    "\n",
    "Assume that the stock price $S_t$ follows a Geometric Brownian Motion (GBM) described by the stochastic differential equation:\n",
    "\n",
    "$$\n",
    "dS_t = \\mu S_t\\, dt + \\sigma S_t\\, dW_t,\n",
    "$$\n",
    "\n",
    "This implies that the stock price at time $T$ is given by:\n",
    "\n",
    "$$\n",
    "S_T = S_t \\exp\\left\\{ \\left(\\mu - \\frac{1}{2}\\sigma^2\\right)(T-t) + \\sigma\\sqrt{T-t}\\, Z \\right\\},\n",
    "$$\n",
    "\n",
    "where $Z \\sim N(0,1)$. Consequently, $S_T$ is log-normally distributed. Its probability density function (pdf) is given by:\n",
    "\n",
    "$$\n",
    "f_{S_T}(x) = \\frac{1}{x\\, \\sigma_1 \\sqrt{2\\pi}} \\exp\\left\\{ -\\frac{(\\ln(x) - \\mu_1)^2}{2\\sigma_1^2} \\right\\},\n",
    "$$\n",
    "\n",
    "with the parameters:\n",
    "\n",
    "$$\n",
    "\\mu_1 = \\ln[S_t] + \\left(\\mu - \\frac{1}{2}\\sigma^2\\right)(T-t),\n",
    "$$\n",
    "\n",
    "$$\n",
    "\\sigma_1^2 = \\sigma^2 (T-t).\n",
    "$$\n",
    "\n",
    "Below, we illustrate this with a plot using the parameters:  \n",
    "- Annual drift: $\\mu = 0.07$  \n",
    "- Initial stock price: $S_0 = 100$  \n",
    "- Annual volatility: $\\sigma = 0.1$  \n",
    "- Time horizon: $T = 2$ years\n"
   ]
  },
  {
   "cell_type": "code",
   "execution_count": null,
   "metadata": {},
   "outputs": [],
   "source": [
    "from plot import plot_log_normal_distribution\n",
    "mu = 0.07       # annual drift\n",
    "S0 = 100        # initial stock price\n",
    "sigma = 0.1    # annual volatility\n",
    "T = 2          # 1 year\n",
    "plot_log_normal_distribution(mu, S0, sigma, T)"
   ]
  },
  {
   "cell_type": "markdown",
   "metadata": {},
   "source": [
    "### Black-Scholes Formula for a European Call and Put Option\n",
    "\n",
    "The price of a European call option $C$ is given by:\n",
    "\n",
    "$$ c(t) = S(t) \\cdot \\Phi(d_1) - e^{-r(T-t)} E\\cdot \\Phi(d_2) $$\n",
    "\n",
    "\n",
    "\n",
    "where:\n",
    "\n",
    "- $S(t)$: Stock price at time $t$\n",
    "- $E$: Strike price of the option\n",
    "- $T$: Time to expiration\n",
    "- $r$: Risk-free interest rate\n",
    "- $\\Phi(x)$: Cumulative distribution function of the standard normal distribution\n",
    "- $d_1$ and $d_2$ are calculated as:\n",
    "\n",
    "$$ d_1 = \\frac{\\ln(S(t) / E) + (r + \\sigma^2 / 2)(T-t)}{\\sigma \\sqrt{T-t}} $$\n",
    "$$ d_2 = d_1 - \\sigma \\sqrt{T-t} $$\n",
    "\n",
    "- $\\sigma$: Volatility (Standard Deviation) of the stock's returns\n"
   ]
  },
  {
   "cell_type": "code",
   "execution_count": null,
   "metadata": {},
   "outputs": [],
   "source": [
    "#Example\n",
    "from finance import black_scholes_call_price\n",
    "S0 = 100      # Current stock price\n",
    "E = 100       # Strike price\n",
    "r = 0.05      # 5% annual risk-free rate\n",
    "T = 1         # 1 year until expiration\n",
    "sigma = 0.2   # 20% annual volatility\n",
    "\n",
    "price = black_scholes_call_price(S0, E, r, T, sigma)\n",
    "print(f\"The European call option price is: {price:.2f}\")"
   ]
  },
  {
   "cell_type": "markdown",
   "metadata": {},
   "source": [
    "\n",
    "### Estimating Annualized Volatility\n",
    "\n",
    "Given historical stock prices $S(n)$ for $N+1$ days, we can estimate daily returns $R_n$ as:\n",
    "\n",
    "$$ R_n = \\frac{S(n) - S(n - 1)}{S(n - 1)} $$\n",
    "\n",
    "Then, we compute the daily mean return $\\hat{\\mu}_d$ and daily volatility $\\hat{\\sigma}_d$:\n",
    "\n",
    "$$ \\hat{\\mu}_d = \\frac{1}{N} \\sum_{n=1}^{N} \\ln(1 + R_n) $$\n",
    "$$ \\hat{\\sigma}_d = \\sqrt{\\frac{1}{N - 1} \\sum_{n=1}^{N} (\\ln(1 + R_n) - \\hat{\\mu}_d)^2} $$\n",
    "\n",
    "To annualize these estimates, assuming 252 trading days in a year, the formulas are:\n",
    "\n",
    "$$ \\hat{\\mu} = 252 \\hat{\\mu}_d $$\n",
    "$$ \\hat{\\sigma} = \\hat{\\sigma}_d \\sqrt{252} $$\n",
    "\n",
    "These estimates provide insights into the average return and the risk or uncertainty of the stock's return, which are pivotal for financial modeling and risk management."
   ]
  },
  {
   "cell_type": "code",
   "execution_count": null,
   "metadata": {},
   "outputs": [],
   "source": [
    "from finance import annualized_volatility\n",
    "\n",
    "daily_returns = [0.01, -0.005, 0.003, 0.02, -0.01, 0.005, -0.002]\n",
    "\n",
    "ann_vol, daily_vol, daily_mu = annualized_volatility(daily_returns)\n",
    "\n",
    "print(f\"Daily Mean Log Return (μ_d): {daily_mu:.5f}\")\n",
    "print(f\"Daily Volatility (σ_d): {daily_vol:.5f}\")\n",
    "print(f\"Annualized Volatility (σ): {ann_vol:.2%}\")"
   ]
  },
  {
   "cell_type": "code",
   "execution_count": null,
   "metadata": {},
   "outputs": [],
   "source": [
    "# Import required functions\n",
    "from finance import (\n",
    "    historical_annualized_volatility, \n",
    "    get_current_stock_price, \n",
    "    get_current_option_price, \n",
    "    time_to_maturity, \n",
    "    black_scholes_call_price\n",
    ")\n",
    "\n",
    "# Stock and date range for historical volatility computation\n",
    "ticker = 'AAPL'\n",
    "start_date = '2024-02-05'\n",
    "end_date = '2025-02-05'\n",
    "\n",
    "# Option parameters\n",
    "expiration = \"2026-01-16\"  \n",
    "strike = 250.0\n",
    "option_type = 'call'\n",
    "\n",
    "# Risk-free rate for Black-Scholes calculation (annualized)\n",
    "risk_free_rate = 0.0418\n",
    "annualized_vol, daily_vol, daily_mean = historical_annualized_volatility(ticker, start_date, end_date)\n",
    "price = get_current_stock_price(ticker)\n",
    "T = time_to_maturity(expiration)\n",
    "price_option = black_scholes_call_price(price, strike, risk_free_rate, T, annualized_vol)\n",
    "opt_price = get_current_option_price(ticker, expiration, strike, option_type) #Real price\n",
    "\n",
    "\n",
    "\n",
    "print(\"--------------------------------------------------\")\n",
    "print(f\"Ticker: {ticker}\")\n",
    "print(\"--------------------------------------------------\")\n",
    "print(f\"Daily Mean Log Return (μ_d): {daily_mean:.5f}\")\n",
    "print(f\"Daily Volatility (σ_d): {daily_vol:.5f}\")\n",
    "print(f\"Annualized Volatility (σ): {annualized_vol:.2%}\")\n",
    "print(\"--------------------------------------------------\")\n",
    "print(f\"Current Stock Price: ${price:.2f}\")\n",
    "print(\"--------------------------------------------------\")\n",
    "print(f\"Market Option Price (from data): ${opt_price:.2f}\")\n",
    "print(f\"Calculated Option Price (Black-Scholes): ${price_option:.2f}\")\n",
    "print(\"--------------------------------------------------\")\n"
   ]
  }
 ],
 "metadata": {
  "kernelspec": {
   "display_name": "Python 3",
   "language": "python",
   "name": "python3"
  },
  "language_info": {
   "codemirror_mode": {
    "name": "ipython",
    "version": 3
   },
   "file_extension": ".py",
   "mimetype": "text/x-python",
   "name": "python",
   "nbconvert_exporter": "python",
   "pygments_lexer": "ipython3",
   "version": "3.11.4"
  }
 },
 "nbformat": 4,
 "nbformat_minor": 2
}