{
 "cells": [
  {
   "cell_type": "code",
   "execution_count": null,
   "metadata": {},
   "outputs": [],
   "source": [
    "# Run this cell to download the course materials and functions.\n",
    "import os\n",
    "import sys\n",
    "\n",
    "# Clone the repository\n",
    "!git clone https://github.com/Stephen-Robbins/Math_of_Finance.git\n",
    "\n",
    "# Change directory to the repository's root\n",
    "%cd Math_of_Finance\n",
    "\n",
    "# --- Important: Add the 'scripts' directory to Python's search path ---\n",
    "# Get the absolute path to the 'scripts' folder. This is crucial for portability.\n",
    "scripts_path = os.path.join(os.getcwd(), \"scripts\")\n",
    "\n",
    "# Add the scripts directory to Python's path\n",
    "if scripts_path not in sys.path:  # Avoid adding it multiple times\n",
    "    sys.path.insert(0, scripts_path)"
   ]
  },
  {
   "cell_type": "code",
   "execution_count": null,
   "metadata": {},
   "outputs": [],
   "source": [
    "from plot import plot_bs_option_sensitivity\n",
    "\n",
    "# Example parameters:\n",
    "option_type = 'call'    # or 'put'\n",
    "S0 = 100                # current stock price\n",
    "E = 100                 # strike price\n",
    "r = 0.05                # risk-free rate (5%)\n",
    "T = 1                   # time to maturity (1 year)\n",
    "sigma = 0.2             # volatility (20%)\n",
    "\n",
    "plot_bs_option_sensitivity(option_type, S0, E, r, T, sigma)\n"
   ]
  },
  {
   "cell_type": "code",
   "execution_count": null,
   "metadata": {},
   "outputs": [],
   "source": [
    "from plot import interactive_bs_s0_plot\n",
    "\n",
    "# Launch the interactive widget (for a call option; change option_type to 'put' if desired)\n",
    "interactive_bs_s0_plot(option_type=\"call\", base_S0=100)"
   ]
  },
  {
   "cell_type": "code",
   "execution_count": null,
   "metadata": {},
   "outputs": [],
   "source": [
    "from finance import monte_carlo_option_price, black_scholes_call_price\n",
    "import numpy as np\n",
    "\n",
    "# Example parameters:\n",
    "S0 = 100    # current stock price\n",
    "E = 100        # strike price (E)\n",
    "r = 0.05       # risk-free interest rate (5%)\n",
    "T = 1          # time to maturity (1 year)\n",
    "sigma = 0.2    # volatility (20%)\n",
    "n_sims = 1000000 # number of Monte Carlo simulations\n",
    "custom_payoff  = lambda S_T: np.maximum(S_T- E, 0)\n",
    "bs_price=black_scholes_call_price(S0, E, r, T, sigma)\n",
    "mc_price = monte_carlo_option_price(S0, E, r, T, sigma, payoff_func=custom_payoff, n_sims=n_sims)\n",
    "print(f\"Monte Carlo  Option Price: {mc_price:.4f}\")\n",
    "print(f\"Black-Scholes Call Option Price: {bs_price:.4f}\")"
   ]
  },
  {
   "cell_type": "markdown",
   "metadata": {},
   "source": [
    "**Goal:** Replicate a European call option's payoff, $\\max(S_T - E, 0)$, using a self-financing portfolio of the underlying stock ($S$) and a risk-free asset ($B$).\n",
    "\n",
    "**Assumptions:** Black-Scholes world (Geometric Brownian Motion for $S$, constant risk-free rate $r$, no arbitrage, continuous trading). The stock price follows: $dS_t = \\mu S_t dt + \\sigma S_t dW_t$.\n",
    "\n",
    "**Delta ($\\Delta$):** Sensitivity of the option price ($C$) to changes in the stock price: $\\Delta = \\frac{\\partial C}{\\partial S} = N(d_1)$, where $d_1 = \\frac{\\ln(S/E) + (r + \\sigma^2/2)(T - t)}{\\sigma\\sqrt{T - t}}$.\n",
    "\n",
    "**Portfolio:**\n",
    "*   $\\Pi(t) = \\Delta S_t + B$\n",
    "*   $\\Delta$ shares of stock.\n",
    "*   $B$ amount in the risk-free asset (cash or bond).\n",
    "\n",
    "**Self-Financing Condition:** Changes in the portfolio value arise *only* from changes in asset prices:\n",
    "*   $d\\Pi(t) = \\Delta dS_t + rBdt$\n",
    "\n",
    "**Replication:** We require $d\\Pi(t) = dC(S_t, t)$. Applying Ito's Lemma to $dC$:\n",
    "$$dC = \\frac{\\partial C}{\\partial t}dt + \\frac{\\partial C}{\\partial S}dS_t + \\frac{1}{2}\\frac{\\partial^2 C}{\\partial S^2}\\sigma^2 S_t^2 dt$$\n",
    "Equating coefficients of $dS_t$ and $dt$ with the self-financing condition ($d\\Pi = dC$) gives:\n",
    "$$\\Delta = \\frac{\\partial C}{\\partial S}$$  \n",
    "$$rB = \\frac{\\partial C}{\\partial t} + \\frac{1}{2}\\frac{\\partial^2 C}{\\partial S^2}\\sigma^2 S_t^2.$$ \n",
    "Combining this with $\\Pi = \\Delta S + B$ and the Black-Scholes equation, we find $B = -Ee^{-r(T-t)}N(d_2)$.\n",
    "\n",
    "**Rebalancing:** Continuously adjust $\\Delta$ (and therefore $B$) as $S$ and $t$ change to maintain $d\\Pi = dC$. This ensures $\\Pi(T) = \\max(S_T - E, 0)$.\n",
    "\n",
    "**Discrete Approximation (Code Implementation):**\n",
    "\n",
    "The Python code simulates delta hedging *discretely*.  The `replicating_portfolio` function implements the strategy as follows:\n",
    "\n",
    "1.  **Initialization:** At $t=0$, the initial option price ($C_0$) and delta ($\\Delta_0$) are calculated using Black-Scholes formulas. The initial portfolio is constructed: $\\Pi(0) = \\Delta_0 S_0 + B_0$, where $B_0 = C_0 - \\Delta_0 S_0$.\n",
    "\n",
    "2.  **Time Stepping:** The simulation proceeds in discrete time steps, $\\Delta t$.  At each step $t_i$:\n",
    "*   The stock price, $S_{t_i}$, is obtained from the simulated Geometric Brownian Motion path.\n",
    "*   The new delta, $\\Delta_{t_i} = N(d_1)$, is calculated using the current stock price $S_{t_i}$ and remaining time to maturity $T - t_i$.\n",
    "*   **Rebalancing:** The portfolio is rebalanced to hold $\\Delta_{t_i}$ shares of stock. The cash account ($B$) is adjusted to maintain the self-financing condition. Specifically, the value of the portfolio *before* rebalancing ($V_{pre}$) is equal to the value *after* rebalancing. The new bank account value is calculated as: $B_{t_i} = V_{pre} - \\Delta_{t_i} S_{t_i}$, where  $V_{pre} = B_{t_{i-1}}e^{r\\Delta t} + \\Delta_{t_{i-1}} S_{t_i}$ .\n",
    "*   The portfolio value is updated: $\\Pi(t_i) = \\Delta_{t_i}S_{t_i} + B_{t_i}$.  Due to the self-financing nature, the portfolio value changes only due to the evolution of $S$ and the interest earned on $B$.\n",
    "\n",
    "3.  **Iteration:** Steps are repeated until expiration ($T$). The discrete rebalancing approximates the continuous delta hedging, aiming for $\\Pi(T) \\approx \\max(S_T - E, 0)$."
   ]
  },
  {
   "cell_type": "code",
   "execution_count": null,
   "metadata": {},
   "outputs": [],
   "source": [
    "import numpy as np\n",
    "from option_hedging import replicating_portfolio\n",
    "import matplotlib.pyplot as plt\n",
    "\n",
    "# Example: Replicating portfolio demonstration.\n",
    "time_grid, opt_prices, port_values, stock_path = replicating_portfolio(\n",
    "    S0=100, E=100, r=0.05, T=1.0, sigma=0.2, n_steps=252\n",
    ")\n",
    "\n",
    "plt.figure(figsize=(10, 6))\n",
    "plt.plot(time_grid, opt_prices, label='Option Price (Black-Scholes)', lw=2)\n",
    "plt.plot(time_grid, port_values, label='Replicating Portfolio Value', lw=2, linestyle='--')\n",
    "plt.xlabel('Time (years)')\n",
    "plt.ylabel('Value')\n",
    "plt.title('Replicating Portfolio vs. Option Price')\n",
    "plt.legend()\n",
    "plt.grid(True)\n",
    "plt.show()\n",
    "\n",
    "\n"
   ]
  },
  {
   "cell_type": "markdown",
   "metadata": {},
   "source": [
    "**Scenario: Apple (AAPL) Call Option Mispricing**\n",
    "\n",
    "Let's assume:\n",
    "\n",
    "*   Current AAPL stock price ($S_0$): $150\n",
    "*   Strike price ($E$) of a European call option: $160\n",
    "*   Time to maturity ($T$): 1 year\n",
    "*   Risk-free rate ($r$): 0.05 (5%)\n",
    "*   Market Implied Volatility ($IV$): 0.20 (20%) - This is the volatility used to price the option in the market.\n",
    "*   Your Estimated Realized Volatility ($\\sigma_R$): 0.30 (30%) - You believe the *true* volatility of AAPL stock over the next year will be higher.\n",
    "\n",
    "Since $IV < \\sigma_R$, the option is undervalued according to your estimate.\n"
   ]
  },
  {
   "cell_type": "code",
   "execution_count": null,
   "metadata": {},
   "outputs": [],
   "source": [
    "from option_hedging import arbitrage_simulation\n",
    "import matplotlib.pyplot as plt\n",
    "# --- Simulation Parameters ---\n",
    "S0 = 150       # Initial stock price\n",
    "E = 150        # Strike price (at-the-money is best)\n",
    "r = 0.05       # Risk-free rate\n",
    "T = 1          # Time to maturity (years)\n",
    "IV = 0.20      # Implied volatility (market)\n",
    "sigma_R = 0.30   # Realized volatility (your estimate)\n",
    "n_steps = 252*10    # Number of time steps (daily)\n",
    "\n",
    "\n",
    "# --- Run the Simulation ---\n",
    "arbitrage_profit, realized_arbitrage_profit = arbitrage_simulation(S0, E, r, T, IV, sigma_R, n_steps)\n",
    "\n",
    "print(\"theoretical arbitrage profit: \", arbitrage_profit)\n",
    "print(\"realized arbitrage profit: \", realized_arbitrage_profit)\n"
   ]
  }
 ],
 "metadata": {
  "kernelspec": {
   "display_name": "Python 3",
   "language": "python",
   "name": "python3"
  },
  "language_info": {
   "codemirror_mode": {
    "name": "ipython",
    "version": 3
   },
   "file_extension": ".py",
   "mimetype": "text/x-python",
   "name": "python",
   "nbconvert_exporter": "python",
   "pygments_lexer": "ipython3",
   "version": "3.11.4"
  }
 },
 "nbformat": 4,
 "nbformat_minor": 2
}